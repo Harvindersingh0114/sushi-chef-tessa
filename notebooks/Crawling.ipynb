{
 "cells": [
  {
   "cell_type": "code",
   "execution_count": 1,
   "metadata": {},
   "outputs": [],
   "source": [
    "from collections import defaultdict\n",
    "import json\n",
    "import os\n",
    "\n",
    "import requests\n",
    "import ricecooker\n",
    "from bs4 import BeautifulSoup\n",
    "\n",
    "from tessa_chef import get_modtype, get_resource_info\n",
    "from tessa_chef import process_language_page\n",
    "from tessa_chef import get_text, create_subpage_node\n",
    "from tessa_chef import  TESSA_LANG_URL_MAP, TESSA_HOME_URL\n",
    "\n",
    "from tessa_chef import DATA_DIR, TREES_DATA_DIR, CRAWLING_STAGE_OUTPUT_TPL, SCRAPING_STAGE_OUTPUT_TPL\n",
    "\n",
    "import pprint\n",
    "pp = pprint.PrettyPrinter(indent=4, width=80)"
   ]
  },
  {
   "cell_type": "code",
   "execution_count": 2,
   "metadata": {
    "collapsed": true
   },
   "outputs": [],
   "source": [
    "from tessa_chef import TessaChef\n",
    "tessa_chef = TessaChef()"
   ]
  },
  {
   "cell_type": "markdown",
   "metadata": {},
   "source": [
    "## Explore crawling with the following debugging steps"
   ]
  },
  {
   "cell_type": "code",
   "execution_count": 5,
   "metadata": {
    "scrolled": false
   },
   "outputs": [
    {
     "name": "stdout",
     "output_type": "stream",
     "text": [
      "\n",
      "\n",
      "\n",
      "------- JULY 28 SPECIAL OUTPUT FOR CRAWLING REVIEW ------\n",
      "crawling lang= ar starting at http://www.open.edu/openlearnworks/course/view.php?id=2198\n",
      "NOT CACHED: http://www.open.edu/openlearnworks/course/view.php?id=2198\n",
      "\n",
      "\n",
      "\n",
      "Processing TESSA page  AR     num of unfiltered activity links: 17\n",
      "Ignoring activity of type resource \tstartswith: طار المناهج\n",
      "Ignoring activity of type resource \tstartswith: مادة العلوم للمرحلة الثانوية إطار المناهج\n",
      "\n",
      "\n",
      "Adding subpage مهارات الحياة\n",
      "http://www.open.edu/openlearncreate/mod/subpage/view.php?id=81251\n",
      " - Recognizd standard module structure. Taking whole module:\n",
      "   Content (oucontent): الوحدة رقم ١ : تطور الشخصية – كيف يؤثر احترام الذات على التعلم؟\n",
      "    - skipping other li قم بقراءة أو تنزيل كل قسم من أقسام الوحد\n",
      " - Recognizd standard module structure. Taking whole module:\n",
      "   Content (oucontent): الوحدة رقم ٢ :استكشاف التطور الاجتماعى\n",
      "    - skipping other li قم بقراءة أو تنزيل كل قسم من أقسام الوحد\n",
      " - Recognizd standard module structure. Taking whole module:\n",
      "   Content (oucontent): الوحدة رقم ٣ : قضايا المجتمع والمواطنة\n",
      "    - skipping other li قم بقراءة أو تنزيل كل قسم من أقسام الوحد\n",
      "    - skipping other li عودة إلى القائمة الرئيسيةTESSA عودة إلى \n",
      "\n",
      "\n",
      "Adding subpage الأدب\n",
      "http://www.open.edu/openlearncreate/mod/subpage/view.php?id=81252\n",
      "       - No heading el found in section so skipping... \n",
      " - Recognizd standard module structure. Taking whole module:\n",
      "   Content (oucontent): الوحدة رقم ١ :القراءة والكتابة لأغراض متعددة\n",
      "    - skipping other li قم بقراءة أو تنزيل كل قسم من أقسام الوحد\n",
      " - Recognizd standard module structure. Taking whole module:\n",
      "   Content (oucontent): الوحدة رقم ٢ :توظيف صوت المجتمع وآرائه في الفصل الدراسي\n",
      "    - skipping other li قم بقراءة أو تنزيل كل قسم من أقسام الوحد\n",
      " - Recognizd standard module structure. Taking whole module:\n",
      "   Content (oucontent): الوحدة رقم ٣ : تنمية التواصل باللغة الإضافية\n",
      "    - skipping other li قم بقراءة أو تنزيل كل قسم من أقسام الوحد\n",
      "    - skipping other li عودة إلى القائمة الرئيسيةTESSA عودة إلى \n",
      "\n",
      "\n",
      "Adding subpage الرياضيات\n",
      "http://www.open.edu/openlearncreate/mod/subpage/view.php?id=81253\n",
      "       - No heading el found in section so skipping... \n",
      " - Recognizd standard module structure. Taking whole module:\n",
      "   Content (oucontent): الوحدة رقم ١ :التقصّي في العدد و النمط\n",
      "    - skipping other li قم بقراءة أو تنزيل كل قسم من أقسام الوحد\n",
      " - Recognizd standard module structure. Taking whole module:\n",
      "   Content (oucontent): الوحدة رقم ٢ :التقصي في الشكل و الفراغ\n",
      "    - skipping other li قم بقراءة أو تنزيل كل قسم من أقسام الوحد\n",
      " - Recognizd standard module structure. Taking whole module:\n",
      "   Content (oucontent): الوحدة رقم ٣ : استكشاف القياسات ومعالجة البيانات\n",
      "    - skipping other li قم بقراءة أو تنزيل كل قسم من أقسام الوحد\n",
      "    - skipping other li عودة إلى القائمة الرئيسيةTESSA عودة إلى \n",
      "\n",
      "\n",
      "Adding subpage العلوم\n",
      "http://www.open.edu/openlearncreate/mod/subpage/view.php?id=81254\n",
      "       - No heading el found in section so skipping... \n",
      " - Recognizd standard module structure. Taking whole module:\n",
      "   Content (oucontent): الوحدة رقم ١ :النظر في الحياة\n",
      "    - skipping other li قم بقراءة أو تنزيل كل قسم من أقسام الوحد\n",
      " - Recognizd standard module structure. Taking whole module:\n",
      "   Content (oucontent): الوحدة رقم ٢ :البحث في طبيعة المواد\n",
      "    - skipping other li قم بقراءة أو تنزيل كل قسم من أقسام الوحد\n",
      " - Recognizd standard module structure. Taking whole module:\n",
      "   Content (oucontent): الوحدة رقم ٣ : الطاقة والحركة\n",
      "    - skipping other li قم بقراءة أو تنزيل كل قسم من أقسام الوحد\n",
      "    - skipping other li عودة إلى القائمة الرئيسيةTESSA عودة إلى \n",
      "\n",
      "\n",
      "Adding subpage الدراسات الاجتماعية والآداب\n",
      "http://www.open.edu/openlearncreate/mod/subpage/view.php?id=81255\n",
      "       - No heading el found in section so skipping... \n",
      " - Recognizd standard module structure. Taking whole module:\n",
      "   Content (oucontent): الوحدة رقم ١ :تنمية فهم المكان\n",
      "    - skipping other li قم بقراءة أو تنزيل كل قسم من أقسام الوحد\n",
      " - Recognizd standard module structure. Taking whole module:\n",
      "   Content (oucontent): الوحدة رقم ٢ :فحص التاريخ\n",
      "    - skipping other li قم بقراءة أو تنزيل كل قسم من أقسام الوحد\n",
      " - Recognizd standard module structure. Taking whole module:\n",
      "   Content (oucontent): الوحدة رقم ٣ : نظرة على الفنون الجميلة\n",
      "    - skipping other li قم بقراءة أو تنزيل كل قسم من أقسام الوحد\n",
      "    - skipping other li عودة إلى القائمة الرئيسيةTESSA عودة إلى \n",
      "\n",
      "\n",
      "Adding subpage صفحة مادة العلوم للمرحلة الثانوية\n",
      "http://www.open.edu/openlearncreate/mod/subpage/view.php?id=81257\n",
      "       - Nonstandard module, using fallback strategies...\n",
      "Processing nonstandard activity_li (label) ونظراً لأن هذه الموارد متاحة باللغة الإن\n",
      "Processing nonstandard activity_li (label) الأحياء\n",
      "Processing nonstandard activity_li (url) Module 1: Secondary Science - Biology UR\n",
      "Processing nonstandard activity_li (label) قم بقراءة أو تنزيل كل قسم من أقسام الوحد\n",
      "Processing nonstandard activity_li (url) Section 1 : Classification and adaptatio\n",
      "Processing nonstandard activity_li (url) Section 2 : Transport URL\n",
      "Processing nonstandard activity_li (url) Section 3 : Respiration URL\n",
      "Processing nonstandard activity_li (url) Section 4 : Nutrition, conservation and \n",
      "Processing nonstandard activity_li (url) Section 5 : Cells URL\n",
      "Processing nonstandard activity_li (label) الكيمياء\n",
      "Processing nonstandard activity_li (url) Module 2: Secondary Science - Chemistry \n",
      "Processing nonstandard activity_li (label) قم بقراءة أو تنزيل كل قسم من أقسام الوحد\n",
      "Processing nonstandard activity_li (url) Section 1 : Elements, compounds and mixt\n",
      "Processing nonstandard activity_li (url) Section 2 : Acids, bases and salts URL\n",
      "Processing nonstandard activity_li (url) Section 3 : Combustion URL\n",
      "Processing nonstandard activity_li (url) Section 4 : Atomic structures, chemical \n",
      "Processing nonstandard activity_li (url) Section 5 : States of matter URL\n",
      "Processing nonstandard activity_li (label) الفيزياء\n",
      "Processing nonstandard activity_li (url) Module 3: Secondary Science - Physics UR\n",
      "Processing nonstandard activity_li (label) قم بقراءة أو تنزيل كل قسم من أقسام الوحد\n",
      "Processing nonstandard activity_li (url) Section 1 : Properties of matter URL\n",
      "Processing nonstandard activity_li (url) Section 2 : Measurement URL\n",
      "Processing nonstandard activity_li (url) Section 3 : Pressure and heat transfer U\n",
      "Processing nonstandard activity_li (url) Section 4 : Forces URL\n",
      "Processing nonstandard activity_li (url) Section 5 : Electricity and magnetism UR\n",
      "Processing nonstandard activity_li (label) عودة إلى القائمة الرئيسيةTESSA عودة إلى \n",
      "skipping TESSA_HOME_URL link activity\n",
      "\n",
      "\n",
      "Adding subpage موارد رئيسية للمعلمين والمسؤولين عن تعليمهم\n",
      "http://www.open.edu/openlearncreate/mod/subpage/view.php?id=81256\n",
      "       - Nonstandard module, using fallback strategies...\n",
      "Processing nonstandard activity_li (label) ونظراً لأن هذه الموارد متاحة باللغة الإن\n",
      "Processing nonstandard activity_li (label) عودة إلى القائمة الرئيسيةTESSA عودة إلى \n",
      "skipping TESSA_HOME_URL link activity\n",
      "\n",
      "\n",
      "Adding subpage كتيبات ومجموعة من برامج وأدوات تطوير المعلمين والمسؤولين عن تعليمهم\n",
      "http://www.open.edu/openlearncreate/mod/subpage/view.php?id=81258\n",
      "       - Nonstandard module, using fallback strategies...\n",
      "Processing nonstandard activity_li (url) العمل مع التلاميذ: دليل للمعلمين URL\n",
      "Processing nonstandard activity_li (label) وهو عبارة عن كتيب تم تصميمه لمساعدة المس\n",
      "Processing nonstandard activity_li (url) العمل مع المعلمين: دليل للمعلمين المعلم \n",
      "Processing nonstandard activity_li (label) وهو عبارة عن كتيّب مختصر للمعلمين يشرح ك\n",
      "Processing nonstandard activity_li (url) كتيب تيسا التعليم السفلى الثانوية العلوم\n",
      "Processing nonstandard activity_li (label) هذا الكتيب مصمم للمسؤولين عن تعليم المعل\n",
      "Processing nonstandard activity_li (subpage) الصفحة الفرعية لمجموعة برامج وأدوات التط\n",
      "Processing nonstandard activity_li (label) حتوي برامج وأدوات التطوير هذه على مجموعة\n",
      "Processing nonstandard activity_li (subpage) الصفحة الفرعية لمجموعة برامج وأدوات تطوي\n",
      "Processing nonstandard activity_li (label) تحتوي برامج وأدوات التطوير هذه على موارد\n",
      "Processing nonstandard activity_li (label) عودة إلى القائمة الرئيسيةTESSA عودة إلى \n",
      "skipping TESSA_HOME_URL link activity\n",
      "\n",
      "\n",
      "Adding subpage موارد صوتية\n",
      "http://www.open.edu/openlearncreate/mod/subpage/view.php?id=81259\n",
      "       - Nonstandard module, using fallback strategies...\n",
      "Processing nonstandard activity_li (subpage) التعلم الفعال Subpage\n",
      "Processing nonstandard activity_li (subpage) كيفية العمل المهني المتخصص Subpage\n",
      "Processing nonstandard activity_li (subpage) التعامل مع الموضوعات الحساسة Subpage\n",
      "Processing nonstandard activity_li (subpage) فرص متساوية Subpage\n",
      "Processing nonstandard activity_li (subpage) الاستماع إلى الطلاب Subpage\n",
      "Processing nonstandard activity_li (subpage) تحفيز الطلاب Subpage\n",
      "Processing nonstandard activity_li (subpage) استخدام اللغة المناسبة Subpage\n",
      "Processing nonstandard activity_li (subpage) استخدام الموارد المحلية Subpage\n",
      "Ignoring activity of type url \tstartswith: TESSA شارك URL\n",
      "Skipping footer section....\n",
      "Unfiltered result stored in chefdata/trees/web_resource_tree_ar_unfiltered.json\n",
      "filter_exclue_match_found طار المناهج\n",
      "Filtered result stored in chefdata/trees/web_resource_tree_ar.json\n"
     ]
    }
   ],
   "source": [
    "DEBUG_LANG = 'ar'\n",
    "tessa_chef.crawl(None, {'lang': DEBUG_LANG})"
   ]
  },
  {
   "cell_type": "code",
   "execution_count": null,
   "metadata": {
    "collapsed": true,
    "scrolled": true
   },
   "outputs": [],
   "source": []
  },
  {
   "cell_type": "code",
   "execution_count": 7,
   "metadata": {},
   "outputs": [
    {
     "name": "stdout",
     "output_type": "stream",
     "text": [
      "<Additional resources>\n",
      "<Autres ressources>\n",
      "<موارد المواد>\n",
      "<Nyenzo za zaidi>\n"
     ]
    }
   ],
   "source": [
    "ADDITIONAL_RESOURCES_TITLES = [\n",
    "    'Additional resources',\n",
    "    'Autres ressources',\n",
    "    'موارد المواد',\n",
    "    'Nyenzo za zaidi',\n",
    "    # 'Download the complete Pan-Africa English library' # keeping bcs we can handle pdf\n",
    "]\n",
    "for r in ADDITIONAL_RESOURCES_TITLES:\n",
    "    print('<' + r + '>')"
   ]
  },
  {
   "cell_type": "code",
   "execution_count": null,
   "metadata": {
    "collapsed": true
   },
   "outputs": [],
   "source": []
  },
  {
   "cell_type": "code",
   "execution_count": null,
   "metadata": {
    "collapsed": true
   },
   "outputs": [],
   "source": []
  },
  {
   "cell_type": "code",
   "execution_count": null,
   "metadata": {
    "collapsed": true
   },
   "outputs": [],
   "source": []
  },
  {
   "cell_type": "code",
   "execution_count": null,
   "metadata": {
    "collapsed": true
   },
   "outputs": [],
   "source": []
  },
  {
   "cell_type": "code",
   "execution_count": null,
   "metadata": {
    "collapsed": true
   },
   "outputs": [],
   "source": []
  },
  {
   "cell_type": "code",
   "execution_count": null,
   "metadata": {
    "collapsed": true
   },
   "outputs": [],
   "source": []
  },
  {
   "cell_type": "code",
   "execution_count": 4,
   "metadata": {
    "scrolled": false
   },
   "outputs": [
    {
     "name": "stdout",
     "output_type": "stream",
     "text": [
      "----\n",
      "WEB RESOURCE TREE: title: TESSA (EN)   len(children) = 4\n",
      "      description: TESSA materials have been\r",
      " created and developed by experts ..\n",
      "   - Category   title: Curriculum\r",
      " framework\n",
      "           desciption: An\r",
      " outline of all the TESSA modules can be found in the fol..\n",
      "      - Resource (oucontent): Primary Curriculum framework\n",
      "      - Resource (oucontent): Secondary Science Curriculum framework\n",
      "   - Category   title: Subject\r",
      " resources\n",
      "           desciption:  The subject resources are divided into six subject areas wh..\n",
      "      - Resource (TessaSubpage): Life Skills (primary)\n",
      "         - Child (TessaModule): Module 1: Personal development – how self-esteem impacts on learning\n",
      "         - Child (TessaModule): Module 2: Exploring social development\n",
      "         - Child (TessaModule): Module 3: Community issues and citizenship\n",
      "      - Resource (TessaSubpage): Literacy (primary)\n",
      "         - Child (TessaModule): Module 1: Reading and writing for a range of purposes\n",
      "         - Child (TessaModule): Module 2: Using community voices in your classroom\n",
      "         - Child (TessaModule): Module 3: Promoting Communication in an Additional Language\n",
      "      - Resource (TessaSubpage): Numeracy (primary)\n",
      "         - Child (TessaModule): Module 1: Investigating Number and Pattern\n",
      "         - Child (TessaModule): Module 2: Exploring Shape and Space\n",
      "         - Child (TessaModule): Module 3: Investigating measurement and data handling\n",
      "      - Resource (TessaSubpage): Social Studies and the Arts (primary)\n",
      "         - Child (TessaModule): Module 1: Developing an Understanding of Place\n",
      "         - Child (TessaModule): Module 2: Investigating History\n",
      "         - Child (TessaModule): Module 3: Looking at the Arts\n",
      "      - Resource (TessaSubpage): Science (primary)\n",
      "         - Child (TessaModule): Module 1: Science - Looking at Life\n",
      "         - Child (TessaModule): Module 2: Science - Investigating Materials\n",
      "         - Child (TessaModule): Module 3: Science - Energy and Movement\n",
      "      - Resource (TessaSubpage): Science (secondary)\n",
      "         - Child (TessaSubject): Biology\n",
      "         - Child (TessaSubject): Chemistry\n",
      "         - Child (TessaSubject): Physics\n",
      "   - Category   title: Additional\r",
      " resources\n",
      "           desciption: ..\n",
      "   - Category   title: Download the complete Pan-Africa English library\n",
      "           desciption: Here you can download the complete set of English materials ..\n",
      "      - Resource (resource): Download Pan-Africa English library in pdf format\n",
      "\n",
      "\n",
      "\n"
     ]
    }
   ],
   "source": [
    "with open(os.path.join(TREES_DATA_DIR, CRAWLING_STAGE_OUTPUT_TPL.format(DEBUG_LANG).replace('.json', '_unfiltered.json'))) as json_file:\n",
    "    web_resource_tree = json.load(json_file)\n",
    "\n",
    "print('----')\n",
    "print('WEB RESOURCE TREE:', 'title:', web_resource_tree['title'], '  len(children) =', len(web_resource_tree['children']))\n",
    "print('      description:', web_resource_tree['description'][0:60]+'..')\n",
    "for category in web_resource_tree['children']:\n",
    "    print('   - Category   title:', category['title']) # len(category['title']))\n",
    "    print('           desciption:', category['description'][0:60]+'..') # len(category['description']))\n",
    "\n",
    "    for resource in category['children']:\n",
    "        # print(resource)\n",
    "        if 'kind' not in resource:\n",
    "            resource['kind'] = resource['type']\n",
    "        print('      - Resource (%s):' % resource['kind'], resource['title'])\n",
    "        for child in resource['children']:\n",
    "            # print(child)\n",
    "            print('         - Child (%s):' % child['kind'], child['title'])\n",
    "\n",
    "print('\\n\\n')\n",
    "\n"
   ]
  },
  {
   "cell_type": "code",
   "execution_count": null,
   "metadata": {
    "collapsed": true,
    "scrolled": false
   },
   "outputs": [],
   "source": []
  },
  {
   "cell_type": "code",
   "execution_count": null,
   "metadata": {
    "collapsed": true
   },
   "outputs": [],
   "source": []
  },
  {
   "cell_type": "code",
   "execution_count": 6,
   "metadata": {
    "scrolled": false
   },
   "outputs": [
    {
     "name": "stdout",
     "output_type": "stream",
     "text": [
      "----\n",
      "WEB RESOURCE TREE: title: TESSA (EN)   len(children) = 4\n",
      "      description: TESSA materials have been\r",
      " created and developed by experts ..\n",
      "   - Category   title: Curriculum\r",
      " framework\n",
      "           desciption: An\r",
      " outline of all the TESSA modules can be found in the fol..\n",
      "      - Resource (oucontent): Primary Curriculum framework\n",
      "      - Resource (oucontent): Secondary Science Curriculum framework\n",
      "   - Category   title: Subject\r",
      " resources\n",
      "           desciption:  The subject resources are divided into six subject areas wh..\n",
      "      - Resource (TessaSubpage): Life Skills (primary)\n",
      "         - Child (TessaModule): Module 1: Personal development – how self-esteem impacts on learning\n",
      "         - Child (TessaModule): Module 2: Exploring social development\n",
      "         - Child (TessaModule): Module 3: Community issues and citizenship\n",
      "      - Resource (TessaSubpage): Literacy (primary)\n",
      "         - Child (TessaModule): Module 1: Reading and writing for a range of purposes\n",
      "         - Child (TessaModule): Module 2: Using community voices in your classroom\n",
      "         - Child (TessaModule): Module 3: Promoting Communication in an Additional Language\n",
      "      - Resource (TessaSubpage): Numeracy (primary)\n",
      "         - Child (TessaModule): Module 1: Investigating Number and Pattern\n",
      "         - Child (TessaModule): Module 2: Exploring Shape and Space\n",
      "         - Child (TessaModule): Module 3: Investigating measurement and data handling\n",
      "      - Resource (TessaSubpage): Social Studies and the Arts (primary)\n",
      "         - Child (TessaModule): Module 1: Developing an Understanding of Place\n",
      "         - Child (TessaModule): Module 2: Investigating History\n",
      "         - Child (TessaModule): Module 3: Looking at the Arts\n",
      "      - Resource (TessaSubpage): Science (primary)\n",
      "         - Child (TessaModule): Module 1: Science - Looking at Life\n",
      "         - Child (TessaModule): Module 2: Science - Investigating Materials\n",
      "         - Child (TessaModule): Module 3: Science - Energy and Movement\n",
      "      - Resource (TessaSubpage): Science (secondary)\n",
      "         - Child (TessaSubject): Biology\n",
      "            - Subchild (TessaModule): Module 1: Secondary Science - Biology\n",
      "         - Child (TessaSubject): Chemistry\n",
      "            - Subchild (TessaModule): Module 2: Secondary Science - Chemistry\n",
      "         - Child (TessaSubject): Physics\n",
      "            - Subchild (TessaModule): Module 3: Secondary Science - Physics\n",
      "   - Category   title: Additional\r",
      " resources\n",
      "           desciption: ..\n",
      "   - Category   title: Download the complete Pan-Africa English library\n",
      "           desciption: Here you can download the complete set of English materials ..\n",
      "      - Resource (resource): Download Pan-Africa English library in pdf format\n",
      "\n",
      "\n",
      "\n"
     ]
    }
   ],
   "source": [
    "from tessa_chef import get_parsed_html_from_url\n",
    "\n",
    "with open(os.path.join(TREES_DATA_DIR, CRAWLING_STAGE_OUTPUT_TPL.format(DEBUG_LANG))) as json_file:\n",
    "    web_resource_tree = json.load(json_file)\n",
    "\n",
    "print('----')\n",
    "print('WEB RESOURCE TREE:', 'title:', web_resource_tree['title'], '  len(children) =', len(web_resource_tree['children']))\n",
    "print('      description:', web_resource_tree['description'][0:60]+'..')\n",
    "for category in web_resource_tree['children']:\n",
    "    print('   - Category   title:', category['title']) # len(category['title']))\n",
    "    print('           desciption:', category['description'][0:60]+'..') # len(category['description']))\n",
    "\n",
    "    for resource in category['children']:\n",
    "        # print(resource)\n",
    "        if 'kind' not in resource:\n",
    "            resource['kind'] = resource['type']\n",
    "        print('      - Resource (%s):' % resource['kind'], resource['title'])\n",
    "        for child in resource['children']:\n",
    "            # print(child)\n",
    "            print('         - Child (%s):' % child['kind'], child['title'])\n",
    "            for subchild in child['children']:\n",
    "                print('            - Subchild (%s):' % subchild['kind'], subchild['title'])\n",
    "\n",
    "print('\\n\\n')\n"
   ]
  },
  {
   "cell_type": "code",
   "execution_count": 25,
   "metadata": {},
   "outputs": [],
   "source": [
    "from tessa_chef import get_parsed_html_from_url\n",
    "\n",
    "page = get_parsed_html_from_url('http://www.open.edu/openlearncreate/course/view.php?id=2042')\n",
    "pre_activity_links = page.find(class_=\"course-content\").find_all(\"li\", class_=\"activity\")\n",
    "activity_links = list(pre_activity_links)\n",
    "\n",
    "activity = activity_links[12]"
   ]
  },
  {
   "cell_type": "code",
   "execution_count": 27,
   "metadata": {},
   "outputs": [
    {
     "data": {
      "text/plain": [
       "'Additional\\r resources'"
      ]
     },
     "execution_count": 27,
     "metadata": {},
     "output_type": "execute_result"
    }
   ],
   "source": [
    "from tessa_chef import get_text\n",
    "get_text(activity)\n"
   ]
  },
  {
   "cell_type": "code",
   "execution_count": 10,
   "metadata": {},
   "outputs": [
    {
     "data": {
      "text/plain": [
       "'alksj_{}_bas.json'"
      ]
     },
     "execution_count": 10,
     "metadata": {},
     "output_type": "execute_result"
    }
   ],
   "source": [
    "s"
   ]
  },
  {
   "cell_type": "code",
   "execution_count": 8,
   "metadata": {},
   "outputs": [
    {
     "data": {
      "text/plain": [
       "'https://contentworkshop.learningequality.org'"
      ]
     },
     "execution_count": 8,
     "metadata": {},
     "output_type": "execute_result"
    }
   ],
   "source": [
    "DOMAIN = os.getenv('CONTENTWORKSHOP_URL', \"https://contentworkshop.learningequality.org/\")\n",
    "if DOMAIN.endswith('/'):\n",
    "    DOMAIN = DOMAIN.rstrip('/')\n",
    "DOMAIN"
   ]
  },
  {
   "cell_type": "code",
   "execution_count": 5,
   "metadata": {},
   "outputs": [
    {
     "data": {
      "text/plain": [
       "'https://contentworkshop.learningequality.org'"
      ]
     },
     "execution_count": 5,
     "metadata": {},
     "output_type": "execute_result"
    }
   ],
   "source": []
  },
  {
   "cell_type": "code",
   "execution_count": null,
   "metadata": {
    "collapsed": true
   },
   "outputs": [],
   "source": []
  }
 ],
 "metadata": {
  "kernelspec": {
   "display_name": "Python 3",
   "language": "python",
   "name": "python3"
  },
  "language_info": {
   "codemirror_mode": {
    "name": "ipython",
    "version": 3
   },
   "file_extension": ".py",
   "mimetype": "text/x-python",
   "name": "python",
   "nbconvert_exporter": "python",
   "pygments_lexer": "ipython3",
   "version": "3.6.1"
  }
 },
 "nbformat": 4,
 "nbformat_minor": 2
}
