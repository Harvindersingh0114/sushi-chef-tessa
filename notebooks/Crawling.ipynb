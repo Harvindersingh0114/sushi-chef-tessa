{
 "cells": [
  {
   "cell_type": "code",
   "execution_count": 6,
   "metadata": {},
   "outputs": [],
   "source": [
    "from collections import defaultdict\n",
    "import json\n",
    "import os\n",
    "\n",
    "import requests\n",
    "import ricecooker\n",
    "from bs4 import BeautifulSoup\n",
    "\n",
    "from tessa_chef import get_modtype, get_resource_info\n",
    "from tessa_chef import process_language_page\n",
    "from tessa_chef import get_text, create_subpage_node\n",
    "from tessa_chef import  TESSA_LANG_URL_MAP, TESSA_HOME_URL\n",
    "\n",
    "from tessa_chef import DATA_DIR, TREES_DATA_DIR, CRAWLING_STAGE_OUTPUT_TPL, SCRAPING_STAGE_OUTPUT_TPL\n",
    "\n",
    "import pprint\n",
    "pp = pprint.PrettyPrinter(indent=4, width=80)"
   ]
  },
  {
   "cell_type": "code",
   "execution_count": 7,
   "metadata": {
    "collapsed": true
   },
   "outputs": [],
   "source": [
    "from tessa_chef import TessaChef\n",
    "tessa_chef = TessaChef()"
   ]
  },
  {
   "cell_type": "markdown",
   "metadata": {},
   "source": [
    "## Explore crawling with the following debugging steps"
   ]
  },
  {
   "cell_type": "code",
   "execution_count": 8,
   "metadata": {
    "scrolled": false
   },
   "outputs": [
    {
     "name": "stdout",
     "output_type": "stream",
     "text": [
      "\n",
      "\n",
      "\n",
      "------- JULY 28 SPECIAL OUTPUT FOR CRAWLING REVIEW ------\n",
      "crawling lang= en starting at http://www.open.edu/openlearncreate/course/view.php?id=2042\n",
      "\n",
      "\n",
      "\n",
      "Processing TESSA page  EN     num of unfiltered activity links: 22\n",
      "Adding oucontent Primary Curriculum framework\n",
      "Adding oucontent Secondary Science Curriculum framework\n",
      "Append description: The subject resources are divi..\n",
      "\n",
      "\n",
      "Adding subpage Life Skills (primary)\n",
      "http://www.open.edu/openlearncreate/mod/subpage/view.php?id=66754\n",
      " - Recognizd standard module structure. Taking whole module:\n",
      "   Content (oucontent): Module 1: Personal development – how self-esteem impacts on learning\n",
      "    - skipping other li Read or download individual sections of \n",
      " - Recognizd standard module structure. Taking whole module:\n",
      "   Content (oucontent): Module 2: Exploring social development\n",
      "    - skipping other li Read or download individual sections of \n",
      " - Recognizd standard module structure. Taking whole module:\n",
      "   Content (oucontent): Module 3: Community issues and citizenship\n",
      "    - skipping other li Read or download individual sections of \n",
      "    - skipping other li Return to main menuReturn to TESSA home\n",
      "\n",
      "\n",
      "Adding subpage Literacy (primary)\n",
      "http://www.open.edu/openlearncreate/mod/subpage/view.php?id=66755\n",
      " - Recognizd standard module structure. Taking whole module:\n",
      "   Content (oucontent): Module 1: Reading and writing for a range of purposes\n",
      "    - skipping other li Read or download individual sections of \n",
      " - Recognizd standard module structure. Taking whole module:\n",
      "   Content (oucontent): Module 2: Using community voices in your classroom\n",
      "    - skipping other li Read or download individual sections of \n",
      " - Recognizd standard module structure. Taking whole module:\n",
      "   Content (oucontent): Module 3: Promoting Communication in an Additional Language\n",
      "    - skipping other li Read or download individual sections of \n",
      "\n",
      "\n",
      "Adding subpage Numeracy (primary)\n",
      "http://www.open.edu/openlearncreate/mod/subpage/view.php?id=66756\n",
      " - Recognizd standard module structure. Taking whole module:\n",
      "   Content (oucontent): Module 1: Investigating Number and Pattern\n",
      "    - skipping other li Read or download individual sections of \n",
      " - Recognizd standard module structure. Taking whole module:\n",
      "   Content (oucontent): Module 2: Exploring Shape and Space\n",
      "    - skipping other li Read or download individual sections of \n",
      " - Recognizd standard module structure. Taking whole module:\n",
      "   Content (oucontent): Module 3: Investigating measurement and data handling\n",
      "    - skipping other li Read or download individual sections of \n",
      "    - skipping other li Return to main menuReturn to TESSA home\n",
      "\n",
      "\n",
      "Adding subpage Social Studies and the Arts (primary)\n",
      "http://www.open.edu/openlearncreate/mod/subpage/view.php?id=66764\n",
      " - Recognizd standard module structure. Taking whole module:\n",
      "   Content (oucontent): Module 1: Developing an Understanding of Place\n",
      "    - skipping other li Read or download individual sections of \n",
      " - Recognizd standard module structure. Taking whole module:\n",
      "   Content (oucontent): Module 2: Investigating History\n",
      "    - skipping other li Read or download individual sections of \n",
      " - Recognizd standard module structure. Taking whole module:\n",
      "   Content (oucontent): Module 3: Looking at the Arts\n",
      "    - skipping other li Read or download individual sections of \n",
      "    - skipping other li Return to main menuReturn to TESSA home\n",
      "\n",
      "\n",
      "Adding subpage Science (primary)\n",
      "http://www.open.edu/openlearncreate/mod/subpage/view.php?id=66757\n",
      " - Recognizd standard module structure. Taking whole module:\n",
      "   Content (oucontent): Module 1: Science - Looking at Life\n",
      "    - skipping other li Read or download individual sections of \n",
      " - Recognizd standard module structure. Taking whole module:\n",
      "   Content (oucontent): Module 2: Science - Investigating Materials\n",
      "    - skipping other li Read or download individual sections of \n",
      " - Recognizd standard module structure. Taking whole module:\n",
      "   Content (oucontent): Module 3: Science - Energy and Movement\n",
      "    - skipping other li Read or download individual sections of \n",
      "    - skipping other li Return to main menuReturn to TESSA home\n",
      "\n",
      "\n",
      "Adding subpage Science (secondary)\n",
      "http://www.open.edu/openlearncreate/mod/subpage/view.php?id=76672\n",
      "       - Nonstandard module, using fallback strategies...\n",
      "         section_li (label) There are 15 TESSA Secondary Science uni\n",
      "         section_li (label) Biology\n",
      "         section_li (oucontent) Module 1: Secondary Science - Biology Un\n",
      "         section_li (label) Read or download individual sections of \n",
      "         section_li (oucontent) Section 1 : Classification and adaptatio\n",
      "         section_li (oucontent) Section 2 : Transport Unit content\n",
      "         section_li (oucontent) Section 3 : Respiration Unit content\n",
      "         section_li (oucontent) Section 4 : Nutrition, conservation and \n",
      "         section_li (oucontent) Section 5 : Cells Unit content\n",
      "         section_li (label) Chemistry\n",
      "         section_li (oucontent) Module 2: Secondary Science - Chemistry \n",
      "         section_li (label) Read or download individual sections of \n",
      "         section_li (oucontent) Section 1 : Elements, compounds and mixt\n",
      "         section_li (oucontent) Section 2 : Acids, bases and salts Unit \n",
      "         section_li (oucontent) Section 3 : Combustion Unit content\n",
      "         section_li (oucontent) Section 4 : Atomic structures, chemical \n",
      "         section_li (oucontent) Section 5 : States of matter Unit conten\n",
      "         section_li (label) Physics\n",
      "         section_li (oucontent) Module 3: Secondary Science - Physics Un\n",
      "         section_li (label) Read or download individual sections of \n",
      "         section_li (oucontent) Section 1 : Properties of matter Unit co\n",
      "         section_li (oucontent) Section 2 : Measurement Unit content\n",
      "         section_li (oucontent) Section 3 : Pressure and heat transfer U\n",
      "         section_li (oucontent) Section 4 : Forces Unit content\n",
      "         section_li (oucontent) Section 5 : Electricity and magnetism Un\n",
      "         section_li (label) Return to main menuReturn to TESSA home\n",
      "\n",
      "\n",
      "Adding subpage Key resources for teachers and teacher educators\n",
      "http://www.open.edu/openlearncreate/mod/subpage/view.php?id=66698\n",
      "       - Nonstandard module, using fallback strategies...\n",
      "         section_li (label) Key resources have been produced for the\n",
      "         section_li (oucontent) Key Resources (All) Unit content\n",
      "         section_li (label) Read or download individual resources:\n",
      "         section_li (oucontent) Introducing the TESSA Key Resources Unit\n",
      "         section_li (oucontent) Key Resource: Assessing learning Unit co\n",
      "         section_li (oucontent) Key Resource: Using mind maps and brains\n",
      "         section_li (oucontent) Key Resource: Being a resourceful teache\n",
      "         section_li (oucontent) Key Resource: Using explaining and demon\n",
      "         section_li (oucontent) Key Resource: Using group work in your c\n",
      "         section_li (oucontent) Key Resource: Using investigations in th\n",
      "         section_li (oucontent) Key Resource: Tools for planning and car\n",
      "         section_li (oucontent) Key Resource: Working with large classes\n",
      "         section_li (oucontent) Key Resource: Using the local community/\n",
      "         section_li (oucontent) Key Resource: Planning and preparing you\n",
      "         section_li (oucontent) Key Resource: Using questioning to promo\n",
      "         section_li (oucontent) Key Resource: Researching in the classro\n",
      "         section_li (oucontent) Key Resource: Using role play/dialogue/d\n",
      "         section_li (oucontent) Key Resource: Using storytelling in the \n",
      "         section_li (oucontent) Key Resource: Using new technologies Uni\n",
      "         section_li (oucontent) Key Resource: Working with multigrade cl\n",
      "         section_li (label) Return to main menuReturn to TESSA home\n",
      "\n",
      "\n",
      "Adding subpage Handbooks and toolkits for teachers and teacher educators\n",
      "http://www.open.edu/openlearncreate/mod/subpage/view.php?id=66699\n",
      "       - Nonstandard module, using fallback strategies...\n",
      "         section_li (oucontent) Working with Teachers: A Handbook for Te\n",
      "         section_li (label) A handbook designed to support teacher e\n",
      "         section_li (oucontent) Working with Pupils: A Guide for Teacher\n",
      "         section_li (label) A short handbook for teachers that expla\n",
      "         section_li (oucontent) TESSA Teaching Lower Secondary Science A\n",
      "         section_li (label) This handbook is designed for teacher ed\n",
      "         section_li (subpage) Teaching practice supervisors' toolkit S\n",
      "         section_li (label) The toolkit contains a range of resource\n",
      "         section_li (subpage) Inclusive education toolkit Subpage\n",
      "         section_li (label) The toolkit contains a range of resource\n",
      "         section_li (label) Return to main menuReturn to TESSA home\n",
      "\n",
      "\n",
      "Adding subpage Audio resources\n",
      "http://www.open.edu/openlearncreate/mod/subpage/view.php?id=66697\n"
     ]
    },
    {
     "name": "stdout",
     "output_type": "stream",
     "text": [
      "       - Nonstandard module, using fallback strategies...\n",
      "         section_li (label) TESSA has a range of audio resources cov\n",
      "         section_li (subpage) Active learning  Subpage\n",
      "         section_li (subpage) Being a professional Subpage\n",
      "         section_li (subpage) Dealing with sensitive issues Subpage\n",
      "         section_li (subpage) Equal opportunities Subpage\n",
      "         section_li (subpage) Listening to pupils Subpage\n",
      "         section_li (subpage) Motivating pupils Subpage\n",
      "         section_li (subpage) Using appropriate language Subpage\n",
      "         section_li (subpage) Using local resources Subpage\n",
      "         section_li (label) Return to main menuReturn to TESSA home\n",
      "\n",
      "\n",
      "Adding subpage Teaching packs\n",
      "http://www.open.edu/openlearncreate/mod/subpage/view.php?id=74909\n",
      "       - Nonstandard module, using fallback strategies...\n",
      "         section_li (resource) Teaching packs (all) File\n",
      "         section_li (label) \n",
      "         section_li (resource) Teaching pack no.1 (early primary) File\n",
      "         section_li (resource) Teaching pack no.2 (early primary) File\n",
      "         section_li (resource) Teaching pack no.3 (early primary) File\n",
      "         section_li (resource) Teaching pack no.4 (early primary) File\n",
      "         section_li (resource) Teaching pack no.5 (early primary) File\n",
      "         section_li (resource) Teaching pack no.6 (middle primary) File\n",
      "         section_li (resource) Teaching pack no.7 (middle primary) File\n",
      "         section_li (resource) Teaching pack no.8 (middle primary) File\n",
      "         section_li (resource) Teaching pack no.9 (middle primary) File\n",
      "         section_li (resource) Teaching pack no.10 (middle primary) Fil\n",
      "         section_li (resource) Teaching pack no.11 (middle primary) Fil\n",
      "         section_li (resource) Teaching pack no.12 (middle primary) Fil\n",
      "         section_li (resource) Teaching pack no.13 (middle primary) Fil\n",
      "         section_li (resource) Teaching pack no.14 (upper primary) File\n",
      "         section_li (resource) Teaching pack no.15 (upper primary) File\n",
      "         section_li (resource) Teaching packs additional resources File\n",
      "         section_li (label) Return to main menuReturn to TESSA home\n",
      "Ignoring activity of type url \tstartswith: TESSA Share URL\n",
      "Ignoring activity of type resource \tstartswith: Download Pan-Africa English library in word format\n",
      "Skipping footer section....\n",
      "Unfiltered result stored in chefdata/trees/web_resource_tree_en_unfiltered.json\n",
      "filter_exclue_match_found Curriculum framework\n",
      "Filtered result stored in chefdata/trees/web_resource_tree_en.json\n"
     ]
    }
   ],
   "source": [
    "DEBUG_LANG = 'en'\n",
    "tessa_chef.crawl(None, {'lang': DEBUG_LANG})"
   ]
  },
  {
   "cell_type": "code",
   "execution_count": null,
   "metadata": {
    "collapsed": true,
    "scrolled": true
   },
   "outputs": [],
   "source": []
  },
  {
   "cell_type": "code",
   "execution_count": null,
   "metadata": {
    "collapsed": true
   },
   "outputs": [],
   "source": []
  },
  {
   "cell_type": "code",
   "execution_count": null,
   "metadata": {
    "collapsed": true
   },
   "outputs": [],
   "source": []
  },
  {
   "cell_type": "code",
   "execution_count": null,
   "metadata": {
    "collapsed": true
   },
   "outputs": [],
   "source": []
  },
  {
   "cell_type": "code",
   "execution_count": null,
   "metadata": {
    "collapsed": true
   },
   "outputs": [],
   "source": []
  },
  {
   "cell_type": "code",
   "execution_count": null,
   "metadata": {
    "collapsed": true
   },
   "outputs": [],
   "source": []
  },
  {
   "cell_type": "code",
   "execution_count": null,
   "metadata": {
    "collapsed": true
   },
   "outputs": [],
   "source": []
  },
  {
   "cell_type": "code",
   "execution_count": null,
   "metadata": {
    "collapsed": true
   },
   "outputs": [],
   "source": []
  },
  {
   "cell_type": "code",
   "execution_count": 10,
   "metadata": {
    "scrolled": false
   },
   "outputs": [
    {
     "name": "stdout",
     "output_type": "stream",
     "text": [
      "----\n",
      "WEB RESOURCE TREE: title: TESSA (EN)   len(children) = 4\n",
      "      description: TESSA materials have been created and developed by experts w..\n",
      "   - Category   title: Curriculum framework\n",
      "           desciption: An outline of all the TESSA modules can be found in the foll..\n",
      "      - Resource (oucontent): Primary Curriculum framework\n",
      "      - Resource (oucontent): Secondary Science Curriculum framework\n",
      "   - Category   title: Subject resources\n",
      "           desciption:  The subject resources are divided into six subject areas wh..\n",
      "      - Resource (TessaSubpage): Life Skills (primary)\n",
      "         - Child (TessaModule): Module 1: Personal development – how self-esteem impacts on learning\n",
      "         - Child (TessaModule): Module 2: Exploring social development\n",
      "         - Child (TessaModule): Module 3: Community issues and citizenship\n",
      "      - Resource (TessaSubpage): Literacy (primary)\n",
      "         - Child (TessaModule): Module 1: Reading and writing for a range of purposes\n",
      "         - Child (TessaModule): Module 2: Using community voices in your classroom\n",
      "         - Child (TessaModule): Module 3: Promoting Communication in an Additional Language\n",
      "      - Resource (TessaSubpage): Numeracy (primary)\n",
      "         - Child (TessaModule): Module 1: Investigating Number and Pattern\n",
      "         - Child (TessaModule): Module 2: Exploring Shape and Space\n",
      "         - Child (TessaModule): Module 3: Investigating measurement and data handling\n",
      "      - Resource (TessaSubpage): Social Studies and the Arts (primary)\n",
      "         - Child (TessaModule): Module 1: Developing an Understanding of Place\n",
      "         - Child (TessaModule): Module 2: Investigating History\n",
      "         - Child (TessaModule): Module 3: Looking at the Arts\n",
      "      - Resource (TessaSubpage): Science (primary)\n",
      "         - Child (TessaModule): Module 1: Science - Looking at Life\n",
      "         - Child (TessaModule): Module 2: Science - Investigating Materials\n",
      "         - Child (TessaModule): Module 3: Science - Energy and Movement\n",
      "      - Resource (TessaSubpage): Science (secondary)\n",
      "   - Category   title: Additional resources\n",
      "           desciption: ..\n",
      "      - Resource (TessaSubpage): Key resources for teachers and teacher educators\n",
      "      - Resource (TessaSubpage): Handbooks and toolkits for teachers and teacher educators\n",
      "      - Resource (TessaSubpage): Audio resources\n",
      "      - Resource (TessaSubpage): Teaching packs\n",
      "   - Category   title: Download the complete Pan-Africa English library\n",
      "           desciption: Here you can download the complete set of English materials ..\n",
      "      - Resource (resource): Download Pan-Africa English library in pdf format\n",
      "\n",
      "\n",
      "\n"
     ]
    }
   ],
   "source": [
    "with open(os.path.join(TREES_DATA_DIR, CRAWLING_STAGE_OUTPUT_TPL.format(DEBUG_LANG).replace('.json', '_unfiltered.json'))) as json_file:\n",
    "    web_resource_tree = json.load(json_file)\n",
    "\n",
    "print('----')\n",
    "print('WEB RESOURCE TREE:', 'title:', web_resource_tree['title'], '  len(children) =', len(web_resource_tree['children']))\n",
    "print('      description:', web_resource_tree['description'][0:60]+'..')\n",
    "for category in web_resource_tree['children']:\n",
    "    print('   - Category   title:', category['title']) # len(category['title']))\n",
    "    print('           desciption:', category['description'][0:60]+'..') # len(category['description']))\n",
    "\n",
    "    for resource in category['children']:\n",
    "        # print(resource)\n",
    "        if 'kind' not in resource:\n",
    "            resource['kind'] = resource['type']\n",
    "        print('      - Resource (%s):' % resource['kind'], resource['title'])\n",
    "        for child in resource['children']:\n",
    "            # print(child)\n",
    "            print('         - Child (%s):' % child['kind'], child['title'])\n",
    "\n",
    "print('\\n\\n')\n",
    "\n"
   ]
  },
  {
   "cell_type": "code",
   "execution_count": null,
   "metadata": {
    "collapsed": true,
    "scrolled": false
   },
   "outputs": [],
   "source": []
  },
  {
   "cell_type": "code",
   "execution_count": null,
   "metadata": {
    "collapsed": true
   },
   "outputs": [],
   "source": []
  },
  {
   "cell_type": "code",
   "execution_count": 11,
   "metadata": {
    "scrolled": false
   },
   "outputs": [
    {
     "name": "stdout",
     "output_type": "stream",
     "text": [
      "----\n",
      "WEB RESOURCE TREE: title: TESSA (EN)   len(children) = 3\n",
      "      description: TESSA materials have been created and developed by experts w..\n",
      "   - Category   title: Subject resources\n",
      "           desciption:  The subject resources are divided into six subject areas wh..\n",
      "      - Resource (TessaSubpage): Life Skills (primary)\n",
      "         - Child (TessaModule): Module 1: Personal development – how self-esteem impacts on learning\n",
      "         - Child (TessaModule): Module 2: Exploring social development\n",
      "         - Child (TessaModule): Module 3: Community issues and citizenship\n",
      "      - Resource (TessaSubpage): Literacy (primary)\n",
      "         - Child (TessaModule): Module 1: Reading and writing for a range of purposes\n",
      "         - Child (TessaModule): Module 2: Using community voices in your classroom\n",
      "         - Child (TessaModule): Module 3: Promoting Communication in an Additional Language\n",
      "      - Resource (TessaSubpage): Numeracy (primary)\n",
      "         - Child (TessaModule): Module 1: Investigating Number and Pattern\n",
      "         - Child (TessaModule): Module 2: Exploring Shape and Space\n",
      "         - Child (TessaModule): Module 3: Investigating measurement and data handling\n",
      "      - Resource (TessaSubpage): Social Studies and the Arts (primary)\n",
      "         - Child (TessaModule): Module 1: Developing an Understanding of Place\n",
      "         - Child (TessaModule): Module 2: Investigating History\n",
      "         - Child (TessaModule): Module 3: Looking at the Arts\n",
      "      - Resource (TessaSubpage): Science (primary)\n",
      "         - Child (TessaModule): Module 1: Science - Looking at Life\n",
      "         - Child (TessaModule): Module 2: Science - Investigating Materials\n",
      "         - Child (TessaModule): Module 3: Science - Energy and Movement\n",
      "      - Resource (TessaSubpage): Science (secondary)\n",
      "   - Category   title: Additional resources\n",
      "           desciption: ..\n",
      "      - Resource (TessaSubpage): Key resources for teachers and teacher educators\n",
      "      - Resource (TessaSubpage): Handbooks and toolkits for teachers and teacher educators\n",
      "      - Resource (TessaSubpage): Audio resources\n",
      "      - Resource (TessaSubpage): Teaching packs\n",
      "   - Category   title: Download the complete Pan-Africa English library\n",
      "           desciption: Here you can download the complete set of English materials ..\n",
      "      - Resource (resource): Download Pan-Africa English library in pdf format\n",
      "\n",
      "\n",
      "\n"
     ]
    }
   ],
   "source": [
    "from tessa_chef import get_parsed_html_from_url\n",
    "\n",
    "with open(os.path.join(TREES_DATA_DIR, CRAWLING_STAGE_OUTPUT_TPL.format(DEBUG_LANG))) as json_file:\n",
    "    web_resource_tree = json.load(json_file)\n",
    "\n",
    "print('----')\n",
    "print('WEB RESOURCE TREE:', 'title:', web_resource_tree['title'], '  len(children) =', len(web_resource_tree['children']))\n",
    "print('      description:', web_resource_tree['description'][0:60]+'..')\n",
    "for category in web_resource_tree['children']:\n",
    "    print('   - Category   title:', category['title']) # len(category['title']))\n",
    "    print('           desciption:', category['description'][0:60]+'..') # len(category['description']))\n",
    "\n",
    "    for resource in category['children']:\n",
    "        # print(resource)\n",
    "        if 'kind' not in resource:\n",
    "            resource['kind'] = resource['type']\n",
    "        print('      - Resource (%s):' % resource['kind'], resource['title'])\n",
    "        for child in resource['children']:\n",
    "            # print(child)\n",
    "            print('         - Child (%s):' % child['kind'], child['title'])\n",
    "\n",
    "print('\\n\\n')\n"
   ]
  },
  {
   "cell_type": "code",
   "execution_count": 8,
   "metadata": {
    "collapsed": true
   },
   "outputs": [],
   "source": [
    "s = 'alksj_{}_bas.json'"
   ]
  },
  {
   "cell_type": "code",
   "execution_count": 11,
   "metadata": {},
   "outputs": [
    {
     "data": {
      "text/plain": [
       "'alksj_en_bas_vida.json'"
      ]
     },
     "execution_count": 11,
     "metadata": {},
     "output_type": "execute_result"
    }
   ],
   "source": [
    "s.replace('.json', '_vida.json').format('en')"
   ]
  },
  {
   "cell_type": "code",
   "execution_count": 10,
   "metadata": {},
   "outputs": [
    {
     "data": {
      "text/plain": [
       "'alksj_{}_bas.json'"
      ]
     },
     "execution_count": 10,
     "metadata": {},
     "output_type": "execute_result"
    }
   ],
   "source": [
    "s"
   ]
  },
  {
   "cell_type": "code",
   "execution_count": null,
   "metadata": {
    "collapsed": true
   },
   "outputs": [],
   "source": []
  },
  {
   "cell_type": "code",
   "execution_count": null,
   "metadata": {
    "collapsed": true
   },
   "outputs": [],
   "source": []
  },
  {
   "cell_type": "code",
   "execution_count": null,
   "metadata": {
    "collapsed": true
   },
   "outputs": [],
   "source": []
  }
 ],
 "metadata": {
  "kernelspec": {
   "display_name": "Python 3",
   "language": "python",
   "name": "python3"
  },
  "language_info": {
   "codemirror_mode": {
    "name": "ipython",
    "version": 3
   },
   "file_extension": ".py",
   "mimetype": "text/x-python",
   "name": "python",
   "nbconvert_exporter": "python",
   "pygments_lexer": "ipython3",
   "version": "3.6.1"
  }
 },
 "nbformat": 4,
 "nbformat_minor": 2
}
