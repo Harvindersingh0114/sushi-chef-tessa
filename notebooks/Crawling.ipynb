{
 "cells": [
  {
   "cell_type": "code",
   "execution_count": 1,
   "metadata": {},
   "outputs": [],
   "source": [
    "from collections import defaultdict\n",
    "\n",
    "import requests\n",
    "import ricecooker\n",
    "from bs4 import BeautifulSoup\n",
    "\n",
    "#from tessa_chef import split_list_by_label\n",
    "from tessa_chef import get_text, get_list_item\n",
    "\n",
    "from tessa_chef import  TESSA_LANG_URL_MAP, TESSA_HOME_URL\n",
    "\n",
    "import pprint\n",
    "pp = pprint.PrettyPrinter(indent=4) # width=1000)"
   ]
  },
  {
   "cell_type": "code",
   "execution_count": null,
   "metadata": {
    "collapsed": true
   },
   "outputs": [],
   "source": []
  },
  {
   "cell_type": "code",
   "execution_count": 13,
   "metadata": {},
   "outputs": [],
   "source": [
    "def get_modtype(activity):\n",
    "    classes = activity.get(\"class\")\n",
    "    for klass in classes:\n",
    "        if klass.startswith('modtype_'):\n",
    "            return klass.replace('modtype_', '')\n",
    "    return None\n",
    "    \n",
    "\n",
    "def split_list_by_label(lang, page):\n",
    "    \"\"\"\n",
    "    Process a top-level collection page for a given language.\n",
    "    \n",
    "    \"\"\"\n",
    "    links = defaultdict(list)\n",
    "    web_resource_tree = dict(\n",
    "        title='TESSA (%s)' % lang.upper(),\n",
    "        children=[],\n",
    "    )\n",
    "    \n",
    "    pre_activity_links = page.find(class_=\"course-content\").find_all(\"li\", class_=\"activity\")\n",
    "    activity_links = list(pre_activity_links)\n",
    "    print(len(activity_links))\n",
    "\n",
    "\n",
    "    current_category = None\n",
    "    for activity in activity_links:\n",
    "        print(activity.text[0:50])\n",
    "        activity_type = get_modtype(activity)\n",
    "\n",
    "        if activity_type == 'label':\n",
    "\n",
    "            home_link = activity.select('a[href=\"' + TESSA_HOME_URL + '\"]')\n",
    "            if home_link:\n",
    "                continue  # skip last footer section\n",
    "            category_title = get_text(activity).replace('\\n',' ')[0:10]\n",
    "            category_description = get_text(activity).replace('\\n',' ')[100:110]\n",
    "            new_category = dict(\n",
    "                title=category_title,\n",
    "                children = [],\n",
    "            )\n",
    "            web_resource_tree['children'].append(new_category)\n",
    "            current_category = new_category\n",
    "        if activity_type in ['oucontent', 'subpage']:\n",
    "            current_category['children'].append(get_list_item(activity))\n",
    "        #         if activity.find(class_=\"contentwithoutlink\"):\n",
    "        #             current_title = get_text(activity).replace('\\n',' ')\n",
    "        #             # throw away descriptions\n",
    "        #             while activity.find(class_=\"contentwithoutlink\"):\n",
    "        #                 try:\n",
    "        #                     activity = links_iter.__next__()\n",
    "        #                 except StopIteration:\n",
    "        #                     break\n",
    "        #             links[current_title].append(get_list_item(activity))\n",
    "        #         else:\n",
    "        #             links[current_title].append(get_list_item(activity))\n",
    "    return web_resource_tree\n"
   ]
  },
  {
   "cell_type": "code",
   "execution_count": 14,
   "metadata": {},
   "outputs": [
    {
     "name": "stdout",
     "output_type": "stream",
     "text": [
      "16\n",
      "\n",
      "\n",
      "\n",
      "\n",
      "FRANÇAISBienvenue sur la page francophone\n",
      "pana\n",
      "Résumé et récapitulatif des matériels TESSA Le dét\n",
      "Résumé des matériels pédagogiques TESSA Website co\n",
      "Récapitulatif détaillé TESSA Fichier\n",
      "\n",
      "\n",
      "Ressources disciplinaires de formation des ensei\n",
      "Compétences de la vie courante  Subpage\n",
      "Alphabétisation Subpage\n",
      "Mathématiques  Subpage\n",
      "Sciences Subpage\n",
      "Sciences humaines et arts     Subpage\n",
      "\n",
      "\n",
      "Autres ressources\n",
      "Ressources clés  Subpage\n",
      "Guides pour les enseignants et les formateurs d’en\n",
      "Ressources  audio  Subpage\n",
      "TESSA Share URL\n",
      "\n",
      "\n",
      "Retour à la page d’accueil TESSALe matériel TESS\n",
      "{   'children': [   {   'children': [   {   'title': 'Résumé des matériels '\n",
      "                                                     'pédagogiques TESSA',\n",
      "                                            'type': 'Website content',\n",
      "                                            'url': 'http://www.open.edu/openlearncreate/mod/oucontent/view.php?id=84487'}],\n",
      "                        'title': 'Résumé et '},\n",
      "                    {   'children': [   {   'title': 'Compétences de la vie '\n",
      "                                                     'courante',\n",
      "                                            'type': 'Subpage',\n",
      "                                            'url': 'http://www.open.edu/openlearncreate/mod/subpage/view.php?id=66857'},\n",
      "                                        {   'title': 'Alphabétisation',\n",
      "                                            'type': 'Subpage',\n",
      "                                            'url': 'http://www.open.edu/openlearncreate/mod/subpage/view.php?id=80922'},\n",
      "                                        {   'title': 'Mathématiques',\n",
      "                                            'type': 'Subpage',\n",
      "                                            'url': 'http://www.open.edu/openlearncreate/mod/subpage/view.php?id=66860'},\n",
      "                                        {   'title': 'Sciences',\n",
      "                                            'type': 'Subpage',\n",
      "                                            'url': 'http://www.open.edu/openlearncreate/mod/subpage/view.php?id=80923'},\n",
      "                                        {   'title': 'Sciences humaines et '\n",
      "                                                     'arts',\n",
      "                                            'type': 'Subpage',\n",
      "                                            'url': 'http://www.open.edu/openlearncreate/mod/subpage/view.php?id=80924'}],\n",
      "                        'title': 'Ressources'},\n",
      "                    {   'children': [   {   'title': 'Ressources clés',\n",
      "                                            'type': 'Subpage',\n",
      "                                            'url': 'http://www.open.edu/openlearncreate/mod/subpage/view.php?id=80919'},\n",
      "                                        {   'title': 'Guides pour les '\n",
      "                                                     'enseignants et les '\n",
      "                                                     'formateurs d’enseignants',\n",
      "                                            'type': 'Subpage',\n",
      "                                            'url': 'http://www.open.edu/openlearncreate/mod/subpage/view.php?id=78407'},\n",
      "                                        {   'title': 'Ressources  audio',\n",
      "                                            'type': 'Subpage',\n",
      "                                            'url': 'http://www.open.edu/openlearncreate/mod/subpage/view.php?id=66858'}],\n",
      "                        'title': 'Autres res'}],\n",
      "    'title': 'TESSA (FR)'}\n"
     ]
    }
   ],
   "source": [
    "top_level_url = TESSA_LANG_URL_MAP['fr']\n",
    "response = requests.get(top_level_url)\n",
    "top_level_page = BeautifulSoup(response.content, \"html5lib\")\n",
    "# page_id = get_page_id(b)\n",
    "\n",
    "\n",
    "web_resource_tree = split_list_by_label('fr', top_level_page)\n",
    "pp.pprint(web_resource_tree)\n",
    "# subpages = {k:v for k,v in split_list_by_label('fr', b).items() if any(x and x.get('type','') == 'Subpage' for x in v)}\n",
    "\n",
    "\n",
    "\n",
    "# for topic, subpages in subpages.items():\n",
    "#     # Subject Resources\n",
    "#     LOGGER.info('topic:' + str(topic))\n",
    "#     topic_node = TopicNode(source_id=get_key(topic), title=topic)\n",
    "#     channel.add_child(topic_node)\n",
    "#     for subpage in subpages:\n",
    "#         create_subpage_node(topic_node, subpage)\n",
    "\n",
    "# return channel\n"
   ]
  },
  {
   "cell_type": "code",
   "execution_count": 15,
   "metadata": {},
   "outputs": [],
   "source": [
    "pre_activity_links = top_level_page.find(class_=\"course-content\").find_all(\"li\", class_=\"activity\")\n",
    "activity_links = list(pre_activity_links)\n",
    "activity = activity_links[-1]"
   ]
  },
  {
   "cell_type": "code",
   "execution_count": null,
   "metadata": {},
   "outputs": [],
   "source": []
  },
  {
   "cell_type": "code",
   "execution_count": 7,
   "metadata": {},
   "outputs": [
    {
     "data": {
      "text/plain": [
       "[<a href=\"http://www.tessafrica.net/home\">Retour à la page d’accueil TESSA</a>]"
      ]
     },
     "execution_count": 7,
     "metadata": {},
     "output_type": "execute_result"
    }
   ],
   "source": [
    "\n"
   ]
  },
  {
   "cell_type": "code",
   "execution_count": null,
   "metadata": {},
   "outputs": [],
   "source": []
  },
  {
   "cell_type": "code",
   "execution_count": null,
   "metadata": {
    "collapsed": true
   },
   "outputs": [],
   "source": []
  },
  {
   "cell_type": "code",
   "execution_count": null,
   "metadata": {},
   "outputs": [],
   "source": []
  },
  {
   "cell_type": "code",
   "execution_count": 6,
   "metadata": {},
   "outputs": [
    {
     "ename": "NameError",
     "evalue": "name 'l' is not defined",
     "output_type": "error",
     "traceback": [
      "\u001b[0;31m---------------------------------------------------------------------------\u001b[0m",
      "\u001b[0;31mNameError\u001b[0m                                 Traceback (most recent call last)",
      "\u001b[0;32m<ipython-input-6-12f54a96f644>\u001b[0m in \u001b[0;36m<module>\u001b[0;34m()\u001b[0m\n\u001b[0;32m----> 1\u001b[0;31m \u001b[0ml\u001b[0m\u001b[0;34m\u001b[0m\u001b[0m\n\u001b[0m",
      "\u001b[0;31mNameError\u001b[0m: name 'l' is not defined"
     ]
    }
   ],
   "source": [
    "l"
   ]
  },
  {
   "cell_type": "code",
   "execution_count": null,
   "metadata": {
    "collapsed": true
   },
   "outputs": [],
   "source": []
  },
  {
   "cell_type": "code",
   "execution_count": null,
   "metadata": {
    "collapsed": true
   },
   "outputs": [],
   "source": [
    "s  = 'asa'"
   ]
  },
  {
   "cell_type": "code",
   "execution_count": null,
   "metadata": {
    "collapsed": true
   },
   "outputs": [],
   "source": [
    "s.st"
   ]
  }
 ],
 "metadata": {
  "kernelspec": {
   "display_name": "Python 3",
   "language": "python",
   "name": "python3"
  },
  "language_info": {
   "codemirror_mode": {
    "name": "ipython",
    "version": 3
   },
   "file_extension": ".py",
   "mimetype": "text/x-python",
   "name": "python",
   "nbconvert_exporter": "python",
   "pygments_lexer": "ipython3",
   "version": "3.6.1"
  }
 },
 "nbformat": 4,
 "nbformat_minor": 2
}
