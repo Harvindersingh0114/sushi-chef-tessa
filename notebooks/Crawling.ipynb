{
 "cells": [
  {
   "cell_type": "code",
   "execution_count": 2,
   "metadata": {
    "collapsed": true
   },
   "outputs": [],
   "source": [
    "from collections import defaultdict\n",
    "import json\n",
    "import os\n",
    "\n",
    "import requests\n",
    "import ricecooker\n",
    "from bs4 import BeautifulSoup\n",
    "\n",
    "from tessa_chef import get_modtype, get_resource_info\n",
    "from tessa_chef import process_language_page\n",
    "from tessa_chef import get_text, create_subpage_node\n",
    "from tessa_chef import  TESSA_LANG_URL_MAP, TESSA_HOME_URL\n",
    "\n",
    "from tessa_chef import DATA_DIR, TREES_DATA_DIR, CRAWLING_STAGE_OUTPUT_TPL, SCRAPING_STAGE_OUTPUT_TPL\n",
    "\n",
    "import pprint\n",
    "pp = pprint.PrettyPrinter(indent=4, width=80)"
   ]
  },
  {
   "cell_type": "code",
   "execution_count": 3,
   "metadata": {
    "collapsed": true
   },
   "outputs": [],
   "source": [
    "from tessa_chef import TessaChef\n",
    "tessa_chef = TessaChef()"
   ]
  },
  {
   "cell_type": "markdown",
   "metadata": {},
   "source": [
    "## Explore crawling with the following debugging steps"
   ]
  },
  {
   "cell_type": "code",
   "execution_count": 4,
   "metadata": {
    "scrolled": false
   },
   "outputs": [
    {
     "name": "stdout",
     "output_type": "stream",
     "text": [
      "\n",
      "\n",
      "\n",
      "------- JULY 28 SPECIAL OUTPUT FOR CRAWLING REVIEW ------\n",
      "crawling lang= en starting at http://www.open.edu/openlearncreate/course/view.php?id=2042\n",
      "\n",
      "\n",
      "\n",
      "Processing TESSA page  EN     num of unfiltered activity links: 22\n",
      "Adding oucontent Primary Curriculum framework\n",
      "Adding oucontent Secondary Science Curriculum framework\n",
      "Append description: The subject resources are divi..\n",
      "\n",
      "\n",
      "Adding subpage Life Skills (primary)\n",
      "http://www.open.edu/openlearncreate/mod/subpage/view.php?id=66754\n",
      " - Recognizd standard module structure. Taking whole module:\n",
      "   Content (oucontent): Module 1: Personal development – how self-esteem impacts on learning\n",
      "    - skipping other li Read or download individual sections of \n",
      " - Recognizd standard module structure. Taking whole module:\n",
      "   Content (oucontent): Module 2: Exploring social development\n",
      "    - skipping other li Read or download individual sections of \n",
      " - Recognizd standard module structure. Taking whole module:\n",
      "   Content (oucontent): Module 3: Community issues and citizenship\n",
      "    - skipping other li Read or download individual sections of \n",
      "    - skipping other li Return to main menuReturn to TESSA home\n",
      "\n",
      "\n",
      "Adding subpage Literacy (primary)\n",
      "http://www.open.edu/openlearncreate/mod/subpage/view.php?id=66755\n",
      " - Recognizd standard module structure. Taking whole module:\n",
      "   Content (oucontent): Module 1: Reading and writing for a range of purposes\n",
      "    - skipping other li Read or download individual sections of \n",
      " - Recognizd standard module structure. Taking whole module:\n",
      "   Content (oucontent): Module 2: Using community voices in your classroom\n",
      "    - skipping other li Read or download individual sections of \n",
      " - Recognizd standard module structure. Taking whole module:\n",
      "   Content (oucontent): Module 3: Promoting Communication in an Additional Language\n",
      "    - skipping other li Read or download individual sections of \n",
      "\n",
      "\n",
      "Adding subpage Numeracy (primary)\n",
      "http://www.open.edu/openlearncreate/mod/subpage/view.php?id=66756\n",
      " - Recognizd standard module structure. Taking whole module:\n",
      "   Content (oucontent): Module 1: Investigating Number and Pattern\n",
      "    - skipping other li Read or download individual sections of \n",
      " - Recognizd standard module structure. Taking whole module:\n",
      "   Content (oucontent): Module 2: Exploring Shape and Space\n",
      "    - skipping other li Read or download individual sections of \n",
      " - Recognizd standard module structure. Taking whole module:\n",
      "   Content (oucontent): Module 3: Investigating measurement and data handling\n",
      "    - skipping other li Read or download individual sections of \n",
      "    - skipping other li Return to main menuReturn to TESSA home\n",
      "\n",
      "\n",
      "Adding subpage Social Studies and the Arts (primary)\n",
      "http://www.open.edu/openlearncreate/mod/subpage/view.php?id=66764\n",
      " - Recognizd standard module structure. Taking whole module:\n",
      "   Content (oucontent): Module 1: Developing an Understanding of Place\n",
      "    - skipping other li Read or download individual sections of \n",
      " - Recognizd standard module structure. Taking whole module:\n",
      "   Content (oucontent): Module 2: Investigating History\n",
      "    - skipping other li Read or download individual sections of \n",
      " - Recognizd standard module structure. Taking whole module:\n",
      "   Content (oucontent): Module 3: Looking at the Arts\n",
      "    - skipping other li Read or download individual sections of \n",
      "    - skipping other li Return to main menuReturn to TESSA home\n",
      "\n",
      "\n",
      "Adding subpage Science (primary)\n",
      "http://www.open.edu/openlearncreate/mod/subpage/view.php?id=66757\n",
      " - Recognizd standard module structure. Taking whole module:\n",
      "   Content (oucontent): Module 1: Science - Looking at Life\n",
      "    - skipping other li Read or download individual sections of \n",
      " - Recognizd standard module structure. Taking whole module:\n",
      "   Content (oucontent): Module 2: Science - Investigating Materials\n",
      "    - skipping other li Read or download individual sections of \n",
      " - Recognizd standard module structure. Taking whole module:\n",
      "   Content (oucontent): Module 3: Science - Energy and Movement\n",
      "    - skipping other li Read or download individual sections of \n",
      "    - skipping other li Return to main menuReturn to TESSA home\n",
      "\n",
      "\n",
      "Adding subpage Science (secondary)\n",
      "http://www.open.edu/openlearncreate/mod/subpage/view.php?id=76672\n",
      " - NEW! Recognizd standard module structure. Taking whole module:\n",
      "   Content (oucontent): Module 1: Secondary Science - Biology\n",
      "   total oucontent sections skipped in prev module = 5\n",
      " - NEW! Recognizd standard module structure. Taking whole module:\n",
      "   Content (oucontent): Module 2: Secondary Science - Chemistry\n",
      "   total oucontent sections skipped in prev module = 5\n",
      " - NEW! Recognizd standard module structure. Taking whole module:\n",
      "   Content (oucontent): Module 3: Secondary Science - Physics\n",
      "   total oucontent sections skipped in prev module = 5\n",
      "\n",
      "\n",
      "Found ADDITIONAL RESOURCES SUBPAGE Key resources for teachers and teacher educators\n",
      "http://www.open.edu/openlearncreate/mod/subpage/view.php?id=66698\n",
      "should never be here >>>>>>>>>>>>>>>>>>>>>>>>>>>>>>>>>>>>>>>>>>>>>>>>>>>>>>>>>>>>>>>>>\n",
      " - NEW! Recognizd standard module structure. Taking whole module:\n",
      "   Content (oucontent): Introducing the TESSA Key Resources\n",
      " - NEW! Recognizd standard module structure. Taking whole module:\n",
      "   Content (oucontent): Key Resource: Assessing learning\n",
      " - NEW! Recognizd standard module structure. Taking whole module:\n",
      "   Content (oucontent): Key Resource: Using mind maps and brainstorming to explore ideas\n",
      " - NEW! Recognizd standard module structure. Taking whole module:\n",
      "   Content (oucontent): Key Resource: Being a resourceful teacher in challenging circumstances\n",
      " - NEW! Recognizd standard module structure. Taking whole module:\n",
      "   Content (oucontent): Key Resource: Using explaining and demonstrating to assist learning\n",
      " - NEW! Recognizd standard module structure. Taking whole module:\n",
      "   Content (oucontent): Key Resource: Using group work in your classroom\n",
      " - NEW! Recognizd standard module structure. Taking whole module:\n",
      "   Content (oucontent): Key Resource: Using investigations in the classroom\n",
      " - NEW! Recognizd standard module structure. Taking whole module:\n",
      "   Content (oucontent): Key Resource: Tools for planning and carrying out investigations in Science\n",
      " - NEW! Recognizd standard module structure. Taking whole module:\n",
      "   Content (oucontent): Key Resource: Working with large classes\n",
      " - NEW! Recognizd standard module structure. Taking whole module:\n",
      "   Content (oucontent): Key Resource: Using the local community/environment as a resource\n",
      " - NEW! Recognizd standard module structure. Taking whole module:\n",
      "   Content (oucontent): Key Resource: Planning and preparing your lessons\n",
      " - NEW! Recognizd standard module structure. Taking whole module:\n",
      "   Content (oucontent): Key Resource: Using questioning to promote thinking\n",
      " - NEW! Recognizd standard module structure. Taking whole module:\n",
      "   Content (oucontent): Key Resource: Researching in the classroom\n",
      " - NEW! Recognizd standard module structure. Taking whole module:\n",
      "   Content (oucontent): Key Resource: Using role play/dialogue/drama in the classroom\n",
      " - NEW! Recognizd standard module structure. Taking whole module:\n",
      "   Content (oucontent): Key Resource: Using storytelling in the classroom\n",
      " - NEW! Recognizd standard module structure. Taking whole module:\n",
      "   Content (oucontent): Key Resource: Using new technologies\n",
      " - NEW! Recognizd standard module structure. Taking whole module:\n",
      "   Content (oucontent): Key Resource: Working with multigrade classes\n",
      "   total oucontent sections skipped in prev module = 0\n",
      "{'kind': 'TessaSubpage', 'url': 'http://www.open.edu/openlearncreate/mod/subpage/view.php?id=66698', 'source_id': 'topic_66698', 'title': 'Key resources for teachers and teacher educators', 'lang': 'en', 'description': 'Key resources\\xa0have been produced for the TESSA community, describing some important aspects of the teaching and learning process. These are referred to throughout the TESSA materials.', 'children': [{'kind': 'TessaSubject', 'title': 'Read or download individual resources:', 'children': [{'url': 'http://www.open.edu/openlearncreate/mod/oucontent/view.php?id=80315', 'source_id': '80315', 'title': 'Introducing the TESSA Key Resources', 'hidden_subspan_text': 'Unit content', 'children': [], 'kind': 'TessaModule', 'lang': 'en'}, {'url': 'http://www.open.edu/openlearncreate/mod/oucontent/view.php?id=80316', 'source_id': '80316', 'title': 'Key Resource: Assessing learning', 'hidden_subspan_text': 'Unit content', 'children': [], 'kind': 'TessaModule', 'lang': 'en'}, {'url': 'http://www.open.edu/openlearncreate/mod/oucontent/view.php?id=80317', 'source_id': '80317', 'title': 'Key Resource: Using mind maps and brainstorming to explore ideas', 'hidden_subspan_text': 'Unit content', 'children': [], 'kind': 'TessaModule', 'lang': 'en'}, {'url': 'http://www.open.edu/openlearncreate/mod/oucontent/view.php?id=80318', 'source_id': '80318', 'title': 'Key Resource: Being a resourceful teacher in challenging circumstances', 'hidden_subspan_text': 'Unit content', 'children': [], 'kind': 'TessaModule', 'lang': 'en'}, {'url': 'http://www.open.edu/openlearncreate/mod/oucontent/view.php?id=80319', 'source_id': '80319', 'title': 'Key Resource: Using explaining and demonstrating to assist learning', 'hidden_subspan_text': 'Unit content', 'children': [], 'kind': 'TessaModule', 'lang': 'en'}, {'url': 'http://www.open.edu/openlearncreate/mod/oucontent/view.php?id=80320', 'source_id': '80320', 'title': 'Key Resource: Using group work in your classroom', 'hidden_subspan_text': 'Unit content', 'children': [], 'kind': 'TessaModule', 'lang': 'en'}, {'url': 'http://www.open.edu/openlearncreate/mod/oucontent/view.php?id=80321', 'source_id': '80321', 'title': 'Key Resource: Using investigations in the classroom', 'hidden_subspan_text': 'Unit content', 'children': [], 'kind': 'TessaModule', 'lang': 'en'}, {'url': 'http://www.open.edu/openlearncreate/mod/oucontent/view.php?id=80322', 'source_id': '80322', 'title': 'Key Resource: Tools for planning and carrying out investigations in Science', 'hidden_subspan_text': 'Unit content', 'children': [], 'kind': 'TessaModule', 'lang': 'en'}, {'url': 'http://www.open.edu/openlearncreate/mod/oucontent/view.php?id=80323', 'source_id': '80323', 'title': 'Key Resource: Working with large classes', 'hidden_subspan_text': 'Unit content', 'children': [], 'kind': 'TessaModule', 'lang': 'en'}, {'url': 'http://www.open.edu/openlearncreate/mod/oucontent/view.php?id=80324', 'source_id': '80324', 'title': 'Key Resource: Using the local community/environment as a resource', 'hidden_subspan_text': 'Unit content', 'children': [], 'kind': 'TessaModule', 'lang': 'en'}, {'url': 'http://www.open.edu/openlearncreate/mod/oucontent/view.php?id=80325', 'source_id': '80325', 'title': 'Key Resource: Planning and preparing your lessons', 'hidden_subspan_text': 'Unit content', 'children': [], 'kind': 'TessaModule', 'lang': 'en'}, {'url': 'http://www.open.edu/openlearncreate/mod/oucontent/view.php?id=80326', 'source_id': '80326', 'title': 'Key Resource: Using questioning to promote thinking', 'hidden_subspan_text': 'Unit content', 'children': [], 'kind': 'TessaModule', 'lang': 'en'}, {'url': 'http://www.open.edu/openlearncreate/mod/oucontent/view.php?id=80327', 'source_id': '80327', 'title': 'Key Resource: Researching in the classroom', 'hidden_subspan_text': 'Unit content', 'children': [], 'kind': 'TessaModule', 'lang': 'en'}, {'url': 'http://www.open.edu/openlearncreate/mod/oucontent/view.php?id=80328', 'source_id': '80328', 'title': 'Key Resource: Using role play/dialogue/drama in the classroom', 'hidden_subspan_text': 'Unit content', 'children': [], 'kind': 'TessaModule', 'lang': 'en'}, {'url': 'http://www.open.edu/openlearncreate/mod/oucontent/view.php?id=80329', 'source_id': '80329', 'title': 'Key Resource: Using storytelling in the classroom', 'hidden_subspan_text': 'Unit content', 'children': [], 'kind': 'TessaModule', 'lang': 'en'}, {'url': 'http://www.open.edu/openlearncreate/mod/oucontent/view.php?id=82493', 'source_id': '82493', 'title': 'Key Resource: Using new technologies', 'hidden_subspan_text': 'Unit content', 'children': [], 'kind': 'TessaModule', 'lang': 'en'}, {'url': 'http://www.open.edu/openlearncreate/mod/oucontent/view.php?id=83251', 'source_id': '83251', 'title': 'Key Resource: Working with multigrade classes', 'hidden_subspan_text': 'Unit content', 'children': [], 'kind': 'TessaModule', 'lang': 'en'}]}]}\n",
      "\n",
      "\n",
      "Found ADDITIONAL RESOURCES SUBPAGE Handbooks and toolkits for teachers and teacher educators\n",
      "http://www.open.edu/openlearncreate/mod/subpage/view.php?id=66699\n"
     ]
    },
    {
     "name": "stdout",
     "output_type": "stream",
     "text": [
      "should never be here >>>>>>>>>>>>>>>>>>>>>>>>>>>>>>>>>>>>>>>>>>>>>>>>>>>>>>>>>>>>>>>>>\n",
      " - NEW! Recognizd standard module structure. Taking whole module:\n",
      "   Content (oucontent): Working with Pupils: A Guide for Teachers\n",
      "   total oucontent sections skipped in prev module = 1\n",
      "   total oucontent sections skipped in prev module = 0\n",
      "   total oucontent sections skipped in prev module = 0\n",
      "{'kind': 'TessaSubpage', 'url': 'http://www.open.edu/openlearncreate/mod/subpage/view.php?id=66699', 'source_id': 'topic_66699', 'title': 'Handbooks and toolkits for teachers and teacher educators', 'lang': 'en', 'description': '', 'children': [{'kind': 'TessaSubject', 'title': 'A handbook designed to support teacher educators to use TESSA materials in courses and programmes. It is for lecturers, advisers, professional development leaders, policy makers and other colleagues working in teacher education. Working with teachers includes the handbook for teachers, Working with pupils.', 'children': [{'url': 'http://www.open.edu/openlearncreate/mod/oucontent/view.php?id=80727', 'source_id': '80727', 'title': 'Working with Pupils: A Guide for Teachers', 'hidden_subspan_text': 'Unit content', 'children': [], 'kind': 'TessaModule', 'lang': 'en'}]}, {'kind': 'TessaSubject', 'title': 'This handbook is designed for teacher educators working with pre-service teachers or planning in-service programmes. It provides practical advice on how to introduce teachers to the TESSA Secondary Science materials by integrating them into courses.', 'children': []}, {'kind': 'TessaSubject', 'title': 'The toolkit contains a range of resources for teacher educators to use to help teachers develop strategies that enable all pupils to reach their potential whatever their abilities, disabilities and needs. The toolkit refers teacher educators and teachers to TESSA resources that are particularly suited to developing inclusive practices within the classroom and the school.', 'children': []}]}\n",
      "\n",
      "\n",
      "Found ADDITIONAL RESOURCES SUBPAGE Audio resources\n",
      "http://www.open.edu/openlearncreate/mod/subpage/view.php?id=66697\n",
      "   total oucontent sections skipped in prev module = 0\n",
      "{'kind': 'TessaSubpage', 'url': 'http://www.open.edu/openlearncreate/mod/subpage/view.php?id=66697', 'source_id': 'topic_66697', 'title': 'Audio resources', 'lang': 'en', 'description': \"TESSA has a range of audio resources covering different aspects of teachers' work in Africa. Click on the resources collection titles below to find out more and listen to the materials:\", 'children': []}\n",
      "\n",
      "\n",
      "Found ADDITIONAL RESOURCES SUBPAGE Teaching packs\n",
      "http://www.open.edu/openlearncreate/mod/subpage/view.php?id=74909\n",
      "   total oucontent sections skipped in prev module = 0\n",
      "{'kind': 'TessaSubpage', 'url': 'http://www.open.edu/openlearncreate/mod/subpage/view.php?id=74909', 'source_id': 'topic_74909', 'title': 'Teaching packs', 'lang': 'en', 'description': '', 'children': [{'kind': 'TessaSubject', 'title': '', 'children': []}]}\n",
      "Ignoring activity of type url \tstartswith: TESSA Share URL\n",
      "Ignoring activity of type resource \tstartswith: Download Pan-Africa English library in word format\n",
      "Skipping footer section....\n",
      "Unfiltered result stored in chefdata/trees/web_resource_tree_en_unfiltered.json\n",
      "Filtered result stored in chefdata/trees/web_resource_tree_en.json\n"
     ]
    }
   ],
   "source": [
    "DEBUG_LANG = 'en'\n",
    "tessa_chef.crawl(None, {'lang': DEBUG_LANG})"
   ]
  },
  {
   "cell_type": "code",
   "execution_count": null,
   "metadata": {
    "collapsed": true
   },
   "outputs": [],
   "source": []
  },
  {
   "cell_type": "code",
   "execution_count": 1,
   "metadata": {},
   "outputs": [
    {
     "name": "stdout",
     "output_type": "stream",
     "text": [
      "<Additional resources>\n",
      "<Autres ressources>\n",
      "<موارد المواد>\n",
      "<Nyenzo za zaidi>\n"
     ]
    }
   ],
   "source": [
    "ADDITIONAL_RESOURCES_TITLES = [\n",
    "    'Additional resources',\n",
    "    'Autres ressources',\n",
    "    'موارد المواد',\n",
    "    'Nyenzo za zaidi',\n",
    "    # 'Download the complete Pan-Africa English library' # keeping bcs we can handle pdf\n",
    "]\n",
    "for r in ADDITIONAL_RESOURCES_TITLES:\n",
    "    print('<' + r + '>')"
   ]
  },
  {
   "cell_type": "code",
   "execution_count": null,
   "metadata": {
    "collapsed": true
   },
   "outputs": [],
   "source": []
  },
  {
   "cell_type": "code",
   "execution_count": null,
   "metadata": {
    "collapsed": true
   },
   "outputs": [],
   "source": []
  },
  {
   "cell_type": "code",
   "execution_count": null,
   "metadata": {
    "collapsed": true
   },
   "outputs": [],
   "source": []
  },
  {
   "cell_type": "code",
   "execution_count": null,
   "metadata": {
    "collapsed": true
   },
   "outputs": [],
   "source": []
  },
  {
   "cell_type": "code",
   "execution_count": null,
   "metadata": {
    "collapsed": true
   },
   "outputs": [],
   "source": []
  },
  {
   "cell_type": "code",
   "execution_count": null,
   "metadata": {
    "collapsed": true
   },
   "outputs": [],
   "source": []
  },
  {
   "cell_type": "code",
   "execution_count": 5,
   "metadata": {
    "scrolled": false
   },
   "outputs": [
    {
     "name": "stdout",
     "output_type": "stream",
     "text": [
      "----\n",
      "WEB RESOURCE TREE: title: TESSA (EN)   len(children) = 4\n",
      "      description: TESSA materials have been\r",
      " created and developed by experts ..\n",
      "   - Category   title: Curriculum\r",
      " framework\n",
      "           desciption: An\r",
      " outline of all the TESSA modules can be found in the fol..\n",
      "      - Resource (oucontent): Primary Curriculum framework\n",
      "      - Resource (oucontent): Secondary Science Curriculum framework\n",
      "   - Category   title: Subject\r",
      " resources\n",
      "           desciption:  The subject resources are divided into six subject areas wh..\n",
      "      - Resource (TessaSubpage): Life Skills (primary)\n",
      "         - Child (TessaModule): Module 1: Personal development – how self-esteem impacts on learning\n",
      "         - Child (TessaModule): Module 2: Exploring social development\n",
      "         - Child (TessaModule): Module 3: Community issues and citizenship\n",
      "      - Resource (TessaSubpage): Literacy (primary)\n",
      "         - Child (TessaModule): Module 1: Reading and writing for a range of purposes\n",
      "         - Child (TessaModule): Module 2: Using community voices in your classroom\n",
      "         - Child (TessaModule): Module 3: Promoting Communication in an Additional Language\n",
      "      - Resource (TessaSubpage): Numeracy (primary)\n",
      "         - Child (TessaModule): Module 1: Investigating Number and Pattern\n",
      "         - Child (TessaModule): Module 2: Exploring Shape and Space\n",
      "         - Child (TessaModule): Module 3: Investigating measurement and data handling\n",
      "      - Resource (TessaSubpage): Social Studies and the Arts (primary)\n",
      "         - Child (TessaModule): Module 1: Developing an Understanding of Place\n",
      "         - Child (TessaModule): Module 2: Investigating History\n",
      "         - Child (TessaModule): Module 3: Looking at the Arts\n",
      "      - Resource (TessaSubpage): Science (primary)\n",
      "         - Child (TessaModule): Module 1: Science - Looking at Life\n",
      "         - Child (TessaModule): Module 2: Science - Investigating Materials\n",
      "         - Child (TessaModule): Module 3: Science - Energy and Movement\n",
      "      - Resource (TessaSubpage): Science (secondary)\n",
      "         - Child (TessaSubject): Biology\n",
      "         - Child (TessaSubject): Chemistry\n",
      "         - Child (TessaSubject): Physics\n",
      "   - Category   title: Additional\r",
      " resources\n",
      "           desciption: ..\n",
      "      - Resource (TessaSubpage): Key resources for teachers and teacher educators\n",
      "         - Child (TessaSubject): Read or download individual resources:\n",
      "      - Resource (TessaSubpage): Handbooks and toolkits for teachers and teacher educators\n",
      "         - Child (TessaSubject): A handbook designed to support teacher educators to use TESSA materials in courses and programmes. It is for lecturers, advisers, professional development leaders, policy makers and other colleagues working in teacher education. Working with teachers includes the handbook for teachers, Working with pupils.\n",
      "         - Child (TessaSubject): This handbook is designed for teacher educators working with pre-service teachers or planning in-service programmes. It provides practical advice on how to introduce teachers to the TESSA Secondary Science materials by integrating them into courses.\n",
      "         - Child (TessaSubject): The toolkit contains a range of resources for teacher educators to use to help teachers develop strategies that enable all pupils to reach their potential whatever their abilities, disabilities and needs. The toolkit refers teacher educators and teachers to TESSA resources that are particularly suited to developing inclusive practices within the classroom and the school.\n",
      "      - Resource (TessaSubpage): Audio resources\n",
      "      - Resource (TessaSubpage): Teaching packs\n",
      "         - Child (TessaSubject): \n",
      "   - Category   title: Download the complete Pan-Africa English library\n",
      "           desciption: Here you can download the complete set of English materials ..\n",
      "      - Resource (resource): Download Pan-Africa English library in pdf format\n",
      "\n",
      "\n",
      "\n"
     ]
    }
   ],
   "source": [
    "with open(os.path.join(TREES_DATA_DIR, CRAWLING_STAGE_OUTPUT_TPL.format(DEBUG_LANG).replace('.json', '_unfiltered.json'))) as json_file:\n",
    "    web_resource_tree = json.load(json_file)\n",
    "\n",
    "print('----')\n",
    "print('WEB RESOURCE TREE:', 'title:', web_resource_tree['title'], '  len(children) =', len(web_resource_tree['children']))\n",
    "print('      description:', web_resource_tree['description'][0:60]+'..')\n",
    "for category in web_resource_tree['children']:\n",
    "    print('   - Category   title:', category['title']) # len(category['title']))\n",
    "    print('           desciption:', category['description'][0:60]+'..') # len(category['description']))\n",
    "\n",
    "    for resource in category['children']:\n",
    "        # print(resource)\n",
    "        if 'kind' not in resource:\n",
    "            resource['kind'] = resource['type']\n",
    "        print('      - Resource (%s):' % resource['kind'], resource['title'])\n",
    "        for child in resource['children']:\n",
    "            # print(child)\n",
    "            print('         - Child (%s):' % child['kind'], child['title'])\n",
    "\n",
    "print('\\n\\n')\n",
    "\n"
   ]
  },
  {
   "cell_type": "code",
   "execution_count": null,
   "metadata": {
    "collapsed": true,
    "scrolled": false
   },
   "outputs": [],
   "source": []
  },
  {
   "cell_type": "code",
   "execution_count": null,
   "metadata": {
    "collapsed": true
   },
   "outputs": [],
   "source": []
  },
  {
   "cell_type": "code",
   "execution_count": 6,
   "metadata": {
    "scrolled": false
   },
   "outputs": [
    {
     "name": "stdout",
     "output_type": "stream",
     "text": [
      "----\n",
      "WEB RESOURCE TREE: title: TESSA (EN)   len(children) = 4\n",
      "      description: TESSA materials have been\r",
      " created and developed by experts ..\n",
      "   - Category   title: Curriculum\r",
      " framework\n",
      "           desciption: An\r",
      " outline of all the TESSA modules can be found in the fol..\n",
      "      - Resource (oucontent): Primary Curriculum framework\n",
      "      - Resource (oucontent): Secondary Science Curriculum framework\n",
      "   - Category   title: Subject\r",
      " resources\n",
      "           desciption:  The subject resources are divided into six subject areas wh..\n",
      "      - Resource (TessaSubpage): Life Skills (primary)\n",
      "         - Child (TessaModule): Module 1: Personal development – how self-esteem impacts on learning\n",
      "         - Child (TessaModule): Module 2: Exploring social development\n",
      "         - Child (TessaModule): Module 3: Community issues and citizenship\n",
      "      - Resource (TessaSubpage): Literacy (primary)\n",
      "         - Child (TessaModule): Module 1: Reading and writing for a range of purposes\n",
      "         - Child (TessaModule): Module 2: Using community voices in your classroom\n",
      "         - Child (TessaModule): Module 3: Promoting Communication in an Additional Language\n",
      "      - Resource (TessaSubpage): Numeracy (primary)\n",
      "         - Child (TessaModule): Module 1: Investigating Number and Pattern\n",
      "         - Child (TessaModule): Module 2: Exploring Shape and Space\n",
      "         - Child (TessaModule): Module 3: Investigating measurement and data handling\n",
      "      - Resource (TessaSubpage): Social Studies and the Arts (primary)\n",
      "         - Child (TessaModule): Module 1: Developing an Understanding of Place\n",
      "         - Child (TessaModule): Module 2: Investigating History\n",
      "         - Child (TessaModule): Module 3: Looking at the Arts\n",
      "      - Resource (TessaSubpage): Science (primary)\n",
      "         - Child (TessaModule): Module 1: Science - Looking at Life\n",
      "         - Child (TessaModule): Module 2: Science - Investigating Materials\n",
      "         - Child (TessaModule): Module 3: Science - Energy and Movement\n",
      "      - Resource (TessaSubpage): Science (secondary)\n",
      "         - Child (TessaSubject): Biology\n",
      "            - Subchild (TessaModule): Module 1: Secondary Science - Biology\n",
      "         - Child (TessaSubject): Chemistry\n",
      "            - Subchild (TessaModule): Module 2: Secondary Science - Chemistry\n",
      "         - Child (TessaSubject): Physics\n",
      "            - Subchild (TessaModule): Module 3: Secondary Science - Physics\n",
      "   - Category   title: Additional\r",
      " resources\n",
      "           desciption: ..\n",
      "      - Resource (TessaSubpage): Key resources for teachers and teacher educators\n",
      "         - Child (TessaSubject): Read or download individual resources:\n",
      "            - Subchild (TessaModule): Introducing the TESSA Key Resources\n",
      "            - Subchild (TessaModule): Key Resource: Assessing learning\n",
      "            - Subchild (TessaModule): Key Resource: Using mind maps and brainstorming to explore ideas\n",
      "            - Subchild (TessaModule): Key Resource: Being a resourceful teacher in challenging circumstances\n",
      "            - Subchild (TessaModule): Key Resource: Using explaining and demonstrating to assist learning\n",
      "            - Subchild (TessaModule): Key Resource: Using group work in your classroom\n",
      "            - Subchild (TessaModule): Key Resource: Using investigations in the classroom\n",
      "            - Subchild (TessaModule): Key Resource: Tools for planning and carrying out investigations in Science\n",
      "            - Subchild (TessaModule): Key Resource: Working with large classes\n",
      "            - Subchild (TessaModule): Key Resource: Using the local community/environment as a resource\n",
      "            - Subchild (TessaModule): Key Resource: Planning and preparing your lessons\n",
      "            - Subchild (TessaModule): Key Resource: Using questioning to promote thinking\n",
      "            - Subchild (TessaModule): Key Resource: Researching in the classroom\n",
      "            - Subchild (TessaModule): Key Resource: Using role play/dialogue/drama in the classroom\n",
      "            - Subchild (TessaModule): Key Resource: Using storytelling in the classroom\n",
      "            - Subchild (TessaModule): Key Resource: Using new technologies\n",
      "            - Subchild (TessaModule): Key Resource: Working with multigrade classes\n",
      "      - Resource (TessaSubpage): Handbooks and toolkits for teachers and teacher educators\n",
      "         - Child (TessaSubject): A handbook designed to support teacher educators to use TESSA materials in courses and programmes. It is for lecturers, advisers, professional development leaders, policy makers and other colleagues working in teacher education. Working with teachers includes the handbook for teachers, Working with pupils.\n",
      "            - Subchild (TessaModule): Working with Pupils: A Guide for Teachers\n",
      "         - Child (TessaSubject): This handbook is designed for teacher educators working with pre-service teachers or planning in-service programmes. It provides practical advice on how to introduce teachers to the TESSA Secondary Science materials by integrating them into courses.\n",
      "         - Child (TessaSubject): The toolkit contains a range of resources for teacher educators to use to help teachers develop strategies that enable all pupils to reach their potential whatever their abilities, disabilities and needs. The toolkit refers teacher educators and teachers to TESSA resources that are particularly suited to developing inclusive practices within the classroom and the school.\n",
      "      - Resource (TessaSubpage): Audio resources\n",
      "      - Resource (TessaSubpage): Teaching packs\n",
      "         - Child (TessaSubject): \n",
      "   - Category   title: Download the complete Pan-Africa English library\n",
      "           desciption: Here you can download the complete set of English materials ..\n",
      "      - Resource (resource): Download Pan-Africa English library in pdf format\n",
      "\n",
      "\n",
      "\n"
     ]
    }
   ],
   "source": [
    "from tessa_chef import get_parsed_html_from_url\n",
    "\n",
    "with open(os.path.join(TREES_DATA_DIR, CRAWLING_STAGE_OUTPUT_TPL.format(DEBUG_LANG))) as json_file:\n",
    "    web_resource_tree = json.load(json_file)\n",
    "\n",
    "print('----')\n",
    "print('WEB RESOURCE TREE:', 'title:', web_resource_tree['title'], '  len(children) =', len(web_resource_tree['children']))\n",
    "print('      description:', web_resource_tree['description'][0:60]+'..')\n",
    "for category in web_resource_tree['children']:\n",
    "    print('   - Category   title:', category['title']) # len(category['title']))\n",
    "    print('           desciption:', category['description'][0:60]+'..') # len(category['description']))\n",
    "\n",
    "    for resource in category['children']:\n",
    "        # print(resource)\n",
    "        if 'kind' not in resource:\n",
    "            resource['kind'] = resource['type']\n",
    "        print('      - Resource (%s):' % resource['kind'], resource['title'])\n",
    "        for child in resource['children']:\n",
    "            # print(child)\n",
    "            print('         - Child (%s):' % child['kind'], child['title'])\n",
    "            for subchild in child['children']:\n",
    "                print('            - Subchild (%s):' % subchild['kind'], subchild['title'])\n",
    "\n",
    "print('\\n\\n')\n"
   ]
  },
  {
   "cell_type": "code",
   "execution_count": 25,
   "metadata": {
    "collapsed": true
   },
   "outputs": [],
   "source": [
    "from tessa_chef import get_parsed_html_from_url\n",
    "\n",
    "page = get_parsed_html_from_url('http://www.open.edu/openlearncreate/course/view.php?id=2042')\n",
    "pre_activity_links = page.find(class_=\"course-content\").find_all(\"li\", class_=\"activity\")\n",
    "activity_links = list(pre_activity_links)\n",
    "\n",
    "activity = activity_links[12]"
   ]
  },
  {
   "cell_type": "code",
   "execution_count": 27,
   "metadata": {},
   "outputs": [
    {
     "data": {
      "text/plain": [
       "'Additional\\r resources'"
      ]
     },
     "execution_count": 27,
     "metadata": {},
     "output_type": "execute_result"
    }
   ],
   "source": [
    "from tessa_chef import get_text\n",
    "get_text(activity)\n"
   ]
  },
  {
   "cell_type": "code",
   "execution_count": 10,
   "metadata": {},
   "outputs": [
    {
     "data": {
      "text/plain": [
       "'alksj_{}_bas.json'"
      ]
     },
     "execution_count": 10,
     "metadata": {},
     "output_type": "execute_result"
    }
   ],
   "source": [
    "s"
   ]
  },
  {
   "cell_type": "code",
   "execution_count": 8,
   "metadata": {},
   "outputs": [
    {
     "data": {
      "text/plain": [
       "'https://contentworkshop.learningequality.org'"
      ]
     },
     "execution_count": 8,
     "metadata": {},
     "output_type": "execute_result"
    }
   ],
   "source": [
    "DOMAIN = os.getenv('CONTENTWORKSHOP_URL', \"https://contentworkshop.learningequality.org/\")\n",
    "if DOMAIN.endswith('/'):\n",
    "    DOMAIN = DOMAIN.rstrip('/')\n",
    "DOMAIN"
   ]
  },
  {
   "cell_type": "code",
   "execution_count": 5,
   "metadata": {},
   "outputs": [
    {
     "data": {
      "text/plain": [
       "'https://contentworkshop.learningequality.org'"
      ]
     },
     "execution_count": 5,
     "metadata": {},
     "output_type": "execute_result"
    }
   ],
   "source": []
  },
  {
   "cell_type": "code",
   "execution_count": null,
   "metadata": {
    "collapsed": true
   },
   "outputs": [],
   "source": []
  }
 ],
 "metadata": {
  "kernelspec": {
   "display_name": "Python 3",
   "language": "python",
   "name": "python3"
  },
  "language_info": {
   "codemirror_mode": {
    "name": "ipython",
    "version": 3
   },
   "file_extension": ".py",
   "mimetype": "text/x-python",
   "name": "python",
   "nbconvert_exporter": "python",
   "pygments_lexer": "ipython3",
   "version": "3.6.1"
  }
 },
 "nbformat": 4,
 "nbformat_minor": 2
}
