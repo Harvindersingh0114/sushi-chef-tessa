{
 "cells": [
  {
   "cell_type": "code",
   "execution_count": 47,
   "metadata": {
    "collapsed": true
   },
   "outputs": [],
   "source": [
    "import logging\n",
    "import os\n",
    "import re\n",
    "from urllib.parse import urlparse, parse_qs\n",
    "import tempfile\n",
    "\n",
    "\n",
    "from bs4 import BeautifulSoup\n",
    "import requests\n",
    "\n",
    "from tessa_chef import make_request, get_parsed_html_from_url, make_fully_qualified_url\n",
    "from tessa_chef import get_license, get_text\n",
    "\n",
    "from le_utils.constants import content_kinds, file_formats, licenses\n",
    "\n",
    "import pprint\n",
    "pp = pprint.PrettyPrinter(indent=4, width=80)"
   ]
  },
  {
   "cell_type": "code",
   "execution_count": 41,
   "metadata": {
    "collapsed": true
   },
   "outputs": [],
   "source": [
    "test_module = 'http://www.open.edu/openlearncreate/mod/oucontent/view.php?id=81108' # EN\n",
    "# test_module = 'http://www.open.edu/openlearncreate/mod/oucontent/view.php?id=82912' # AR"
   ]
  },
  {
   "cell_type": "code",
   "execution_count": 50,
   "metadata": {},
   "outputs": [],
   "source": [
    "\n",
    "BG_IMG_RE = re.compile(\"background-image:url\\((.*)\\)\")\n",
    "SEND_FACEBOOK_RE = re.compile(\"sendFacebook\\([^,]*,[^,]*,(.*)\\)\")\n",
    "\n",
    "\n",
    "def download_module(module_url):\n",
    "    print('Scapring module...')\n",
    "    doc = get_parsed_html_from_url(module_url)\n",
    "    destination = tempfile.mkdtemp()\n",
    "    print('destination=', destination)\n",
    "    \n",
    "    source_id = parse_qs(urlparse(module_url).query)['id'][0]\n",
    "    raw_title = doc.select_one(\"head title\").text\n",
    "    title = raw_title.replace('OLCreate:', '')\\\n",
    "            .replace('TESSA_ARABIC', '')\\\n",
    "            .replace('TESSA_Eng', '')\\\n",
    "            .replace('TESSA_Fr', '')\\\n",
    "            .strip()\n",
    "\n",
    "    contents_dict = dict(\n",
    "        kind='TessaModuleContentsDict',\n",
    "        source_id=source_id,\n",
    "        title=title,\n",
    "        children=[],\n",
    "    )\n",
    "    section_lis = doc.find('ul', class_='oucontent-tree-current-section').find_all('li', recursive=False)\n",
    "    for section_li in section_lis:\n",
    "        section_link = section_li.find('a')\n",
    "        section_href = section_link['href']\n",
    "        subsections_ul = section_li.find('ul')\n",
    "        accesshide_span = section_li.find('span', class_='accesshide')\n",
    "        subsection_lis = subsections_ul.find_all('li')\n",
    "        if accesshide_span:\n",
    "            accesshide_span.extract()\n",
    "        subsections_ul.extract()\n",
    "        section_title = get_text(section_li)\n",
    "        \n",
    "        section_dict = dict(\n",
    "            title=section_title,\n",
    "            href=section_href,\n",
    "            children=[],\n",
    "        )\n",
    "        contents_dict['children'].append(section_dict)\n",
    "        \n",
    "        for subsection_li in subsection_lis:\n",
    "            subsection_link = subsection_li.find('a')\n",
    "            subsection_href = subsection_link['href']\n",
    "            subaccesshide_span = subsection_li.find('span', class_='accesshide')\n",
    "            if subaccesshide_span:\n",
    "                subaccesshide_span.extract()\n",
    "            subsection_title = get_text(subsection_li)\n",
    "            subsection_dict = dict(\n",
    "                title=subsection_title,\n",
    "                href=subsection_href,\n",
    "            )\n",
    "            section_dict['children'].append(subsection_dict)\n",
    "\n",
    "    return contents_dict\n",
    "    with open(os.path.join(destination, \"index.html\"), \"w\") as f:\n",
    "        f.write(str(doc))\n",
    "\n",
    "#     zip_path = create_predictable_zip(destination)\n",
    "\n",
    "#     module_dict = dict(\n",
    "#         kind='HTML5AppNode',\n",
    "#         source_id=source_id,\n",
    "#         title=title,\n",
    "#         license=get_license(licenses.CC_BY_NC_SA, copyright_holder='TESSA'),\n",
    "#         description='fake descri',\n",
    "#         files=[{'file_type':'HTMLZipFile', 'path':zip_path)],\n",
    "#     )\n",
    "#     return module_dict\n",
    "\n",
    "                \n",
    "\n",
    "\n",
    "def download_page(page_url):\n",
    "    print('Scapring module page...')\n",
    "    pass\n",
    "    "
   ]
  },
  {
   "cell_type": "code",
   "execution_count": 51,
   "metadata": {
    "scrolled": false
   },
   "outputs": [
    {
     "name": "stdout",
     "output_type": "stream",
     "text": [
      "Scapring module...\n",
      "destination= /var/folders/k3/r74jr38d56v717n39fd073f80000gn/T/tmpzd5zpg36\n",
      "{'children': [{'children': [{'href': 'http://www.open.edu/openlearncreate/mod/oucontent/view.php?id=81108&section=1.1',\n",
      "                             'title': '1. Organising pupils in groups and '\n",
      "                                      'pairs'},\n",
      "                            {'href': 'http://www.open.edu/openlearncreate/mod/oucontent/view.php?id=81108&section=1.2',\n",
      "                             'title': '2. Finding out what pupils think and '\n",
      "                                      'feel'},\n",
      "                            {'href': 'http://www.open.edu/openlearncreate/mod/oucontent/view.php?id=81108&section=1.3',\n",
      "                             'title': '3. Respecting differences'},\n",
      "                            {'href': 'http://www.open.edu/openlearncreate/mod/oucontent/view.php?id=81108&section=1.4',\n",
      "                             'title': 'Resource 1: Similarities and '\n",
      "                                      'differences'},\n",
      "                            {'href': 'http://www.open.edu/openlearncreate/mod/oucontent/view.php?id=81108&section=1.5',\n",
      "                             'title': 'Resource 2: Asking questions about '\n",
      "                                      'feelings'},\n",
      "                            {'href': 'http://www.open.edu/openlearncreate/mod/oucontent/view.php?id=81108&section=1.6',\n",
      "                             'title': 'Resource 3: How to conduct a class '\n",
      "                                      'survey'},\n",
      "                            {'href': 'http://www.open.edu/openlearncreate/mod/oucontent/view.php?id=81108&section=1.7',\n",
      "                             'title': 'Resource 4: Observing your pupils'},\n",
      "                            {'href': 'http://www.open.edu/openlearncreate/mod/oucontent/view.php?id=81108&section=1.8',\n",
      "                             'title': 'Acknowledgements'}],\n",
      "               'href': 'http://www.open.edu/openlearncreate/mod/oucontent/view.php?id=81108&section=1.1',\n",
      "               'title': 'Section 1: Ways to explore who pupils are'},\n",
      "              {'children': [{'href': 'http://www.open.edu/openlearncreate/mod/oucontent/view.php?id=81108&section=2.1',\n",
      "                             'title': '1. Focus on planning'},\n",
      "                            {'href': 'http://www.open.edu/openlearncreate/mod/oucontent/view.php?id=81108&section=2.2',\n",
      "                             'title': '2. Using games in your teaching'},\n",
      "                            {'href': 'http://www.open.edu/openlearncreate/mod/oucontent/view.php?id=81108&section=2.3',\n",
      "                             'title': '3. Teaching about healthy living'},\n",
      "                            {'href': 'http://www.open.edu/openlearncreate/mod/oucontent/view.php?id=81108&section=2.4',\n",
      "                             'title': 'Resource 1: Introduction to physical '\n",
      "                                      'development'},\n",
      "                            {'href': 'http://www.open.edu/openlearncreate/mod/oucontent/view.php?id=81108&section=2.5',\n",
      "                             'title': 'Resource 2: Planning ways to introduce '\n",
      "                                      'the four principles of physical '\n",
      "                                      'development'},\n",
      "                            {'href': 'http://www.open.edu/openlearncreate/mod/oucontent/view.php?id=81108&section=2.6',\n",
      "                             'title': 'Resource 3: Using games and physical '\n",
      "                                      'exercise'},\n",
      "                            {'href': 'http://www.open.edu/openlearncreate/mod/oucontent/view.php?id=81108&section=2.7',\n",
      "                             'title': 'Resource 4: How Mr Oyugi taught his '\n",
      "                                      'lesson'},\n",
      "                            {'href': 'http://www.open.edu/openlearncreate/mod/oucontent/view.php?id=81108&section=2.8',\n",
      "                             'title': 'Resource 5: Mr Oyugi’s other ideas for '\n",
      "                                      'health promotion'},\n",
      "                            {'href': 'http://www.open.edu/openlearncreate/mod/oucontent/view.php?id=81108&section=2.9',\n",
      "                             'title': 'Resource 6: Picture of an unhealthy '\n",
      "                                      'school environment'},\n",
      "                            {'href': 'http://www.open.edu/openlearncreate/mod/oucontent/view.php?id=81108&section=2.10',\n",
      "                             'title': 'Acknowledgements'}],\n",
      "               'href': 'http://www.open.edu/openlearncreate/mod/oucontent/view.php?id=81108&section=2',\n",
      "               'title': 'Section 2: Planning physical growth and development '\n",
      "                        'sessions'},\n",
      "              {'children': [{'href': 'http://www.open.edu/openlearncreate/mod/oucontent/view.php?id=81108&section=3.1',\n",
      "                             'title': '1. Building on prior knowledge'},\n",
      "                            {'href': 'http://www.open.edu/openlearncreate/mod/oucontent/view.php?id=81108&section=3.2',\n",
      "                             'title': '2. Organising group discussions'},\n",
      "                            {'href': 'http://www.open.edu/openlearncreate/mod/oucontent/view.php?id=81108&section=3.3',\n",
      "                             'title': '3. Using local resource people'},\n",
      "                            {'href': 'http://www.open.edu/openlearncreate/mod/oucontent/view.php?id=81108&section=3.4',\n",
      "                             'title': 'Resource 1: Healthy living practices'},\n",
      "                            {'href': 'http://www.open.edu/openlearncreate/mod/oucontent/view.php?id=81108&section=3.5',\n",
      "                             'title': 'Resource 2: Ideas for classroom '\n",
      "                                      'displays'},\n",
      "                            {'href': 'http://www.open.edu/openlearncreate/mod/oucontent/view.php?id=81108&section=3.6',\n",
      "                             'title': 'Resource 3: Local foods'},\n",
      "                            {'href': 'http://www.open.edu/openlearncreate/mod/oucontent/view.php?id=81108&section=3.7',\n",
      "                             'title': 'Acknowledgements'}],\n",
      "               'href': 'http://www.open.edu/openlearncreate/mod/oucontent/view.php?id=81108&section=3',\n",
      "               'title': 'Section 3: Exploring pupils’ ideas about healthy '\n",
      "                        'living'},\n",
      "              {'children': [{'href': 'http://www.open.edu/openlearncreate/mod/oucontent/view.php?id=81108&section=4.1',\n",
      "                             'title': '1. Teaching children to share'},\n",
      "                            {'href': 'http://www.open.edu/openlearncreate/mod/oucontent/view.php?id=81108&section=4.2',\n",
      "                             'title': '2. Building self-esteem'},\n",
      "                            {'href': 'http://www.open.edu/openlearncreate/mod/oucontent/view.php?id=81108&section=4.3',\n",
      "                             'title': '3. Creating a caring environment'},\n",
      "                            {'href': 'http://www.open.edu/openlearncreate/mod/oucontent/view.php?id=81108&section=4.4',\n",
      "                             'title': 'Resource 1:Reflecting on your '\n",
      "                                      'behaviour'},\n",
      "                            {'href': 'http://www.open.edu/openlearncreate/mod/oucontent/view.php?id=81108&section=4.5',\n",
      "                             'title': 'Resource 2: Mrs Chosane’s reflections '\n",
      "                                      'on her approach'}],\n",
      "               'href': 'http://www.open.edu/openlearncreate/mod/oucontent/view.php?id=81108&section=4',\n",
      "               'title': 'Section 4: Activities to support emotional '\n",
      "                        'well-being'},\n",
      "              {'children': [{'href': 'http://www.open.edu/openlearncreate/mod/oucontent/view.php?id=81108&section=5.1',\n",
      "                             'title': '1. Helping pupils feel safe'},\n",
      "                            {'href': 'http://www.open.edu/openlearncreate/mod/oucontent/view.php?id=81108&section=5.2',\n",
      "                             'title': '2. Ensuring spiritual well-being'},\n",
      "                            {'href': 'http://www.open.edu/openlearncreate/mod/oucontent/view.php?id=81108&section=5.3',\n",
      "                             'title': '3. Celebrating success'},\n",
      "                            {'href': 'http://www.open.edu/openlearncreate/mod/oucontent/view.php?id=81108&section=5.4',\n",
      "                             'title': 'Resource 1: Celebrations'},\n",
      "                            {'href': 'http://www.open.edu/openlearncreate/mod/oucontent/view.php?id=81108&section=5.5',\n",
      "                             'title': 'Resource 2: Ghanaian celebrations'},\n",
      "                            {'href': 'http://www.open.edu/openlearncreate/mod/oucontent/view.php?id=81108&section=5.6',\n",
      "                             'title': 'Acknowledgements'}],\n",
      "               'href': 'http://www.open.edu/openlearncreate/mod/oucontent/view.php?id=81108&section=5',\n",
      "               'title': 'Section 5: Ways to promote spiritual well-being'}],\n",
      " 'kind': 'TessaModuleContentsDict',\n",
      " 'source_id': '81108',\n",
      " 'title': 'Module 1: Personal development – how self-esteem impacts on '\n",
      "          'learning'}\n"
     ]
    }
   ],
   "source": [
    "toc = download_module(test_module)\n",
    "pprint.pprint(toc)"
   ]
  },
  {
   "cell_type": "code",
   "execution_count": null,
   "metadata": {
    "collapsed": true
   },
   "outputs": [],
   "source": []
  },
  {
   "cell_type": "code",
   "execution_count": null,
   "metadata": {
    "collapsed": true
   },
   "outputs": [],
   "source": []
  },
  {
   "cell_type": "code",
   "execution_count": 53,
   "metadata": {},
   "outputs": [
    {
     "data": {
      "text/plain": [
       "'section_2.html'"
      ]
     },
     "execution_count": 53,
     "metadata": {},
     "output_type": "execute_result"
    }
   ],
   "source": [
    "sec_url = 'http://www.open.edu/openlearncreate/mod/oucontent/view.php?id=81108&section=1.3'\n",
    "\n",
    "sec_url = 'http://www.open.edu/openlearncreate/mod/oucontent/view.php?id=81108&section=2'\n",
    "\n",
    "def get_section_filename(sec_url):\n",
    "    sec_num = parse_qs(urlparse(sec_url).query)['section'][0]\n",
    "    return 'section_' + sec_num.replace('.', '_') + '.html'\n",
    "\n",
    "get_section_filename(sec_url)"
   ]
  },
  {
   "cell_type": "code",
   "execution_count": null,
   "metadata": {
    "collapsed": true
   },
   "outputs": [],
   "source": []
  },
  {
   "cell_type": "code",
   "execution_count": null,
   "metadata": {
    "collapsed": true
   },
   "outputs": [],
   "source": []
  },
  {
   "cell_type": "code",
   "execution_count": null,
   "metadata": {
    "collapsed": true
   },
   "outputs": [],
   "source": []
  },
  {
   "cell_type": "code",
   "execution_count": null,
   "metadata": {
    "collapsed": true
   },
   "outputs": [],
   "source": []
  },
  {
   "cell_type": "code",
   "execution_count": 28,
   "metadata": {
    "collapsed": true
   },
   "outputs": [],
   "source": [
    "\n",
    "def passa():\n",
    "\n",
    "    def download_assets(selector, attr, middleware=None):\n",
    "        nodes = doc.select(selector)\n",
    "        for i, node in enumerate(nodes):\n",
    "            url = make_fully_qualified_url(node[attr])\n",
    "            filename = \"%s_%s\" % (i, os.path.basename(url))\n",
    "            node[attr] = filename\n",
    "            download_file(url, destination, request_fn=make_request, filename=filename, middleware_callbacks=middleware)\n",
    "\n",
    "    def js_middleware(content, url, **kwargs):\n",
    "        # Polyfill window.localStorage as iframes can't access localStorage.\n",
    "        return content.replace(\"window.localStorage\",\n",
    "                \"({setItem: function(){}, removeItem: function(){}})\")\n",
    "\n",
    "    # Download all static assets.\n",
    "    # TODO(davidhu): Also download fonts referenced in http://www.africanstorybook.org/css/app.css\n",
    "    download_assets(\"img[src]\", \"src\")  # Images\n",
    "    download_assets(\"link[href]\", \"href\")  # CSS\n",
    "    download_assets(\"script[src]\", \"src\", middleware=js_middleware) # JS\n",
    "\n",
    "    # Download all background images, e.g. <div style=\"background-image:url()\">\n",
    "    # (africanstorybook.org uses these for the main picture found on each page\n",
    "    # of the storybook.)\n",
    "    bg_img_nodes = doc.select(\"div[style*=\\\"background-image:url(\\\"]\")\n",
    "    for i, node in enumerate(bg_img_nodes):\n",
    "        style = node[\"style\"]\n",
    "        match = BG_IMG_RE.search(style)\n",
    "        if not match:\n",
    "            continue\n",
    "\n",
    "        url = make_fully_qualified_url(match.group(1))\n",
    "        filename = \"%s_%s\" % (i, os.path.basename(url))\n",
    "        node[\"style\"] = BG_IMG_RE.sub(\"background-image:url(%s)\" % filename, style)\n",
    "        download_file(url, destination, request_fn=make_request, filename=filename)\n",
    "\n",
    "    # Hide the African Storybook header nav bar.\n",
    "    header = doc.select_one(\"#headerBar\")\n",
    "    if header:\n",
    "        header[\"style\"] = \"display: none;\"\n"
   ]
  },
  {
   "cell_type": "code",
   "execution_count": null,
   "metadata": {
    "collapsed": true
   },
   "outputs": [],
   "source": []
  }
 ],
 "metadata": {
  "kernelspec": {
   "display_name": "Python 3",
   "language": "python",
   "name": "python3"
  },
  "language_info": {
   "codemirror_mode": {
    "name": "ipython",
    "version": 3
   },
   "file_extension": ".py",
   "mimetype": "text/x-python",
   "name": "python",
   "nbconvert_exporter": "python",
   "pygments_lexer": "ipython3",
   "version": "3.6.1"
  }
 },
 "nbformat": 4,
 "nbformat_minor": 2
}
