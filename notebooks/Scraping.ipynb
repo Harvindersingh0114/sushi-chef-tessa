{
 "cells": [
  {
   "cell_type": "code",
   "execution_count": 31,
   "metadata": {},
   "outputs": [],
   "source": [
    "import logging\n",
    "import os\n",
    "import re\n",
    "from urllib.parse import urlparse, parse_qs\n",
    "import tempfile\n",
    "\n",
    "from bs4 import BeautifulSoup\n",
    "import requests\n",
    "\n",
    "from tessa_chef import make_request, get_parsed_html_from_url, make_fully_qualified_url\n",
    "from tessa_chef import get_license\n",
    "\n",
    "from le_utils.constants import content_kinds, file_formats, licenses\n"
   ]
  },
  {
   "cell_type": "code",
   "execution_count": 32,
   "metadata": {
    "collapsed": true
   },
   "outputs": [],
   "source": [
    "test_module = 'http://www.open.edu/openlearncreate/mod/oucontent/view.php?id=81108'"
   ]
  },
  {
   "cell_type": "code",
   "execution_count": 37,
   "metadata": {},
   "outputs": [],
   "source": [
    "\n",
    "BG_IMG_RE = re.compile(\"background-image:url\\((.*)\\)\")\n",
    "SEND_FACEBOOK_RE = re.compile(\"sendFacebook\\([^,]*,[^,]*,(.*)\\)\")\n",
    "\n",
    "\n",
    "def download_module(module_url):\n",
    "    print('Scapring module...')\n",
    "    doc = get_parsed_html_from_url(module_url)\n",
    "    destination = tempfile.mkdtemp()\n",
    "    print('destination=', destination)\n",
    "    \n",
    "    section_lis = doc.find('ul', class_='oucontent-tree-current-section').find_all('li', recursive=False)\n",
    "    \n",
    "    contents_dict = {}\n",
    "    \n",
    "    for section_li in section_lis:\n",
    "        print(section_li.find('a')['href'])\n",
    "        subsection_lis = section_li.find('ul').find_all('li')\n",
    "        \n",
    "        for subsection_li in subsection_lis:\n",
    "            print('   ', subsection_li.find('a')['href'])\n",
    "\n",
    "\n",
    "    with open(os.path.join(destination, \"index.html\"), \"w\") as f:\n",
    "        f.write(str(doc))\n",
    "\n",
    "    # zip_path = create_predictable_zip(destination)\n",
    "\n",
    "    source_id = parse_qs(urlparse(module_url).query)['id'][0]\n",
    "    raw_title = doc.select_one(\"head title\").text\n",
    "    title = raw_title.replace('African Storybook -', '').strip()\n",
    "\n",
    "    module_dict = dict(\n",
    "        source_id=source_id,\n",
    "        title=title,\n",
    "        license=get_license(licenses.CC_BY_NC_SA, copyright_holder='TESSA'),\n",
    "        description='fake descri',\n",
    "        files=[], # files.HTMLZipFile(zip_path)],\n",
    "    )\n",
    "    return module_dict\n",
    "\n",
    "\n",
    "\n",
    "def download_page(page_url):\n",
    "    print('Scapring module page...')\n",
    "    pass\n",
    "    "
   ]
  },
  {
   "cell_type": "code",
   "execution_count": 38,
   "metadata": {},
   "outputs": [
    {
     "name": "stdout",
     "output_type": "stream",
     "text": [
      "destination= /var/folders/k3/r74jr38d56v717n39fd073f80000gn/T/tmppq0uj323\n",
      "Scapring module...\n",
      "http://www.open.edu/openlearncreate/mod/oucontent/view.php?id=81108&section=1.1\n",
      "    http://www.open.edu/openlearncreate/mod/oucontent/view.php?id=81108&section=1.1\n",
      "    http://www.open.edu/openlearncreate/mod/oucontent/view.php?id=81108&section=1.2\n",
      "    http://www.open.edu/openlearncreate/mod/oucontent/view.php?id=81108&section=1.3\n",
      "    http://www.open.edu/openlearncreate/mod/oucontent/view.php?id=81108&section=1.4\n",
      "    http://www.open.edu/openlearncreate/mod/oucontent/view.php?id=81108&section=1.5\n",
      "    http://www.open.edu/openlearncreate/mod/oucontent/view.php?id=81108&section=1.6\n",
      "    http://www.open.edu/openlearncreate/mod/oucontent/view.php?id=81108&section=1.7\n",
      "    http://www.open.edu/openlearncreate/mod/oucontent/view.php?id=81108&section=1.8\n",
      "http://www.open.edu/openlearncreate/mod/oucontent/view.php?id=81108&section=2\n",
      "    http://www.open.edu/openlearncreate/mod/oucontent/view.php?id=81108&section=2.1\n",
      "    http://www.open.edu/openlearncreate/mod/oucontent/view.php?id=81108&section=2.2\n",
      "    http://www.open.edu/openlearncreate/mod/oucontent/view.php?id=81108&section=2.3\n",
      "    http://www.open.edu/openlearncreate/mod/oucontent/view.php?id=81108&section=2.4\n",
      "    http://www.open.edu/openlearncreate/mod/oucontent/view.php?id=81108&section=2.5\n",
      "    http://www.open.edu/openlearncreate/mod/oucontent/view.php?id=81108&section=2.6\n",
      "    http://www.open.edu/openlearncreate/mod/oucontent/view.php?id=81108&section=2.7\n",
      "    http://www.open.edu/openlearncreate/mod/oucontent/view.php?id=81108&section=2.8\n",
      "    http://www.open.edu/openlearncreate/mod/oucontent/view.php?id=81108&section=2.9\n",
      "    http://www.open.edu/openlearncreate/mod/oucontent/view.php?id=81108&section=2.10\n",
      "http://www.open.edu/openlearncreate/mod/oucontent/view.php?id=81108&section=3\n",
      "    http://www.open.edu/openlearncreate/mod/oucontent/view.php?id=81108&section=3.1\n",
      "    http://www.open.edu/openlearncreate/mod/oucontent/view.php?id=81108&section=3.2\n",
      "    http://www.open.edu/openlearncreate/mod/oucontent/view.php?id=81108&section=3.3\n",
      "    http://www.open.edu/openlearncreate/mod/oucontent/view.php?id=81108&section=3.4\n",
      "    http://www.open.edu/openlearncreate/mod/oucontent/view.php?id=81108&section=3.5\n",
      "    http://www.open.edu/openlearncreate/mod/oucontent/view.php?id=81108&section=3.6\n",
      "    http://www.open.edu/openlearncreate/mod/oucontent/view.php?id=81108&section=3.7\n",
      "http://www.open.edu/openlearncreate/mod/oucontent/view.php?id=81108&section=4\n",
      "    http://www.open.edu/openlearncreate/mod/oucontent/view.php?id=81108&section=4.1\n",
      "    http://www.open.edu/openlearncreate/mod/oucontent/view.php?id=81108&section=4.2\n",
      "    http://www.open.edu/openlearncreate/mod/oucontent/view.php?id=81108&section=4.3\n",
      "    http://www.open.edu/openlearncreate/mod/oucontent/view.php?id=81108&section=4.4\n",
      "    http://www.open.edu/openlearncreate/mod/oucontent/view.php?id=81108&section=4.5\n",
      "http://www.open.edu/openlearncreate/mod/oucontent/view.php?id=81108&section=5\n",
      "    http://www.open.edu/openlearncreate/mod/oucontent/view.php?id=81108&section=5.1\n",
      "    http://www.open.edu/openlearncreate/mod/oucontent/view.php?id=81108&section=5.2\n",
      "    http://www.open.edu/openlearncreate/mod/oucontent/view.php?id=81108&section=5.3\n",
      "    http://www.open.edu/openlearncreate/mod/oucontent/view.php?id=81108&section=5.4\n",
      "    http://www.open.edu/openlearncreate/mod/oucontent/view.php?id=81108&section=5.5\n",
      "    http://www.open.edu/openlearncreate/mod/oucontent/view.php?id=81108&section=5.6\n"
     ]
    },
    {
     "data": {
      "text/plain": [
       "{'description': 'fake descri',\n",
       " 'files': [],\n",
       " 'license': <ricecooker.classes.licenses.CC_BY_NC_SALicense at 0x115744a58>,\n",
       " 'source_id': '81108',\n",
       " 'title': 'OLCreate: TESSA_Eng Module 1: Personal development – how self-esteem impacts on learning'}"
      ]
     },
     "execution_count": 38,
     "metadata": {},
     "output_type": "execute_result"
    }
   ],
   "source": [
    "download_module(test_module)"
   ]
  },
  {
   "cell_type": "code",
   "execution_count": null,
   "metadata": {
    "collapsed": true
   },
   "outputs": [],
   "source": []
  },
  {
   "cell_type": "code",
   "execution_count": null,
   "metadata": {
    "collapsed": true
   },
   "outputs": [],
   "source": []
  },
  {
   "cell_type": "code",
   "execution_count": null,
   "metadata": {
    "collapsed": true
   },
   "outputs": [],
   "source": []
  },
  {
   "cell_type": "code",
   "execution_count": null,
   "metadata": {
    "collapsed": true
   },
   "outputs": [],
   "source": []
  },
  {
   "cell_type": "code",
   "execution_count": null,
   "metadata": {
    "collapsed": true
   },
   "outputs": [],
   "source": []
  },
  {
   "cell_type": "code",
   "execution_count": null,
   "metadata": {
    "collapsed": true
   },
   "outputs": [],
   "source": []
  },
  {
   "cell_type": "code",
   "execution_count": null,
   "metadata": {
    "collapsed": true
   },
   "outputs": [],
   "source": []
  },
  {
   "cell_type": "code",
   "execution_count": 28,
   "metadata": {
    "collapsed": true
   },
   "outputs": [],
   "source": [
    "\n",
    "def passa():\n",
    "\n",
    "    def download_assets(selector, attr, middleware=None):\n",
    "        nodes = doc.select(selector)\n",
    "        for i, node in enumerate(nodes):\n",
    "            url = make_fully_qualified_url(node[attr])\n",
    "            filename = \"%s_%s\" % (i, os.path.basename(url))\n",
    "            node[attr] = filename\n",
    "            download_file(url, destination, request_fn=make_request, filename=filename, middleware_callbacks=middleware)\n",
    "\n",
    "    def js_middleware(content, url, **kwargs):\n",
    "        # Polyfill window.localStorage as iframes can't access localStorage.\n",
    "        return content.replace(\"window.localStorage\",\n",
    "                \"({setItem: function(){}, removeItem: function(){}})\")\n",
    "\n",
    "    # Download all static assets.\n",
    "    # TODO(davidhu): Also download fonts referenced in http://www.africanstorybook.org/css/app.css\n",
    "    download_assets(\"img[src]\", \"src\")  # Images\n",
    "    download_assets(\"link[href]\", \"href\")  # CSS\n",
    "    download_assets(\"script[src]\", \"src\", middleware=js_middleware) # JS\n",
    "\n",
    "    # Download all background images, e.g. <div style=\"background-image:url()\">\n",
    "    # (africanstorybook.org uses these for the main picture found on each page\n",
    "    # of the storybook.)\n",
    "    bg_img_nodes = doc.select(\"div[style*=\\\"background-image:url(\\\"]\")\n",
    "    for i, node in enumerate(bg_img_nodes):\n",
    "        style = node[\"style\"]\n",
    "        match = BG_IMG_RE.search(style)\n",
    "        if not match:\n",
    "            continue\n",
    "\n",
    "        url = make_fully_qualified_url(match.group(1))\n",
    "        filename = \"%s_%s\" % (i, os.path.basename(url))\n",
    "        node[\"style\"] = BG_IMG_RE.sub(\"background-image:url(%s)\" % filename, style)\n",
    "        download_file(url, destination, request_fn=make_request, filename=filename)\n",
    "\n",
    "    # Hide the African Storybook header nav bar.\n",
    "    header = doc.select_one(\"#headerBar\")\n",
    "    if header:\n",
    "        header[\"style\"] = \"display: none;\"\n"
   ]
  },
  {
   "cell_type": "code",
   "execution_count": null,
   "metadata": {
    "collapsed": true
   },
   "outputs": [],
   "source": []
  }
 ],
 "metadata": {
  "kernelspec": {
   "display_name": "Python 3",
   "language": "python",
   "name": "python3"
  },
  "language_info": {
   "codemirror_mode": {
    "name": "ipython",
    "version": 3
   },
   "file_extension": ".py",
   "mimetype": "text/x-python",
   "name": "python",
   "nbconvert_exporter": "python",
   "pygments_lexer": "ipython3",
   "version": "3.6.1"
  }
 },
 "nbformat": 4,
 "nbformat_minor": 2
}
