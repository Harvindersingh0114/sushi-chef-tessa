{
 "cells": [
  {
   "cell_type": "code",
   "execution_count": 1,
   "metadata": {
    "collapsed": true
   },
   "outputs": [],
   "source": [
    "import logging\n",
    "import os\n",
    "import re\n",
    "from urllib.parse import urlparse, parse_qs\n",
    "import tempfile\n",
    "\n",
    "\n",
    "from bs4 import BeautifulSoup\n",
    "import jinja2\n",
    "import requests\n",
    "\n",
    "from tessa_chef import make_request, get_parsed_html_from_url, make_fully_qualified_url\n",
    "from tessa_chef import get_license, get_text\n",
    "from tessa_chef import get_section_filename, create_predictable_zip, download_file\n",
    "from tessa_chef import shutil\n",
    "\n",
    "\n",
    "\n",
    "from le_utils.constants import content_kinds, file_formats, licenses\n",
    "\n",
    "import pprint\n",
    "pp = pprint.PrettyPrinter(indent=4, width=80)"
   ]
  },
  {
   "cell_type": "markdown",
   "metadata": {},
   "source": [
    "\n",
    "## Test download_module funcion\n"
   ]
  },
  {
   "cell_type": "code",
   "execution_count": 2,
   "metadata": {
    "collapsed": true
   },
   "outputs": [],
   "source": [
    "# from tessa_chef import download_module\n",
    "# test_module = 'http://www.open.edu/openlearncreate/mod/oucontent/view.php?id=81108' # EN\n",
    "# test_module = 'http://www.open.edu/openlearncreate/mod/oucontent/view.php?id=82912' # AR\n",
    "test_module = 'http://www.open.edu/openlearncreate/mod/oucontent/view.php?id=82514' # FR\n",
    "\n",
    "# toc = download_module(test_module)\n"
   ]
  },
  {
   "cell_type": "code",
   "execution_count": 3,
   "metadata": {
    "collapsed": true
   },
   "outputs": [],
   "source": [
    "# prints TOC\n",
    "# for section in toc['children']:\n",
    "#     print('  - section:', section['title'], section['filename'])\n",
    "#     for subsection in section['children']:\n",
    "#         print('    - subsection:', subsection['title'], subsection['filename'])\n",
    "\n"
   ]
  },
  {
   "cell_type": "markdown",
   "metadata": {},
   "source": [
    "\n",
    "## Test scraping\n"
   ]
  },
  {
   "cell_type": "code",
   "execution_count": 3,
   "metadata": {
    "scrolled": false
   },
   "outputs": [
    {
     "name": "stdout",
     "output_type": "stream",
     "text": [
      "Scrapring module @ url = http://www.open.edu/openlearncreate/mod/oucontent/view.php?id=105334\n",
      "destination= /var/folders/k3/r74jr38d56v717n39fd073f80000gn/T/tmpdrsqxcwf\n"
     ]
    },
    {
     "ename": "AttributeError",
     "evalue": "'NoneType' object has no attribute 'find_parent'",
     "output_type": "error",
     "traceback": [
      "\u001b[0;31m---------------------------------------------------------------------------\u001b[0m",
      "\u001b[0;31mAttributeError\u001b[0m                            Traceback (most recent call last)",
      "\u001b[0;32m<ipython-input-3-ccb1940c1c92>\u001b[0m in \u001b[0;36m<module>\u001b[0;34m()\u001b[0m\n\u001b[1;32m      1\u001b[0m \u001b[0;32mfrom\u001b[0m \u001b[0mtessa_chef\u001b[0m \u001b[0;32mimport\u001b[0m \u001b[0mTessaChef\u001b[0m\u001b[0;34m\u001b[0m\u001b[0m\n\u001b[1;32m      2\u001b[0m \u001b[0mtessa_chef\u001b[0m \u001b[0;34m=\u001b[0m \u001b[0mTessaChef\u001b[0m\u001b[0;34m(\u001b[0m\u001b[0;34m)\u001b[0m\u001b[0;34m\u001b[0m\u001b[0m\n\u001b[0;32m----> 3\u001b[0;31m \u001b[0mtessa_chef\u001b[0m\u001b[0;34m.\u001b[0m\u001b[0mscrape\u001b[0m\u001b[0;34m(\u001b[0m\u001b[0;32mNone\u001b[0m\u001b[0;34m,\u001b[0m \u001b[0;34m{\u001b[0m\u001b[0;34m'lang'\u001b[0m\u001b[0;34m:\u001b[0m\u001b[0;34m'fr'\u001b[0m\u001b[0;34m}\u001b[0m\u001b[0;34m)\u001b[0m\u001b[0;34m\u001b[0m\u001b[0m\n\u001b[0m",
      "\u001b[0;32m~/Projects/FLECode/sushi-chef-tessa/notebooks/tessa_chef.py\u001b[0m in \u001b[0;36mscrape\u001b[0;34m(self, args, options)\u001b[0m\n\u001b[1;32m   1143\u001b[0m         \u001b[0;32mif\u001b[0m \u001b[0;34m'lang'\u001b[0m \u001b[0;32mnot\u001b[0m \u001b[0;32min\u001b[0m \u001b[0moptions\u001b[0m\u001b[0;34m:\u001b[0m\u001b[0;34m\u001b[0m\u001b[0m\n\u001b[1;32m   1144\u001b[0m             \u001b[0;32mraise\u001b[0m \u001b[0mValueError\u001b[0m\u001b[0;34m(\u001b[0m\u001b[0;34m'Must specify lang=?? on the command line. Supported languages are en, fr, ar, and sw.'\u001b[0m\u001b[0;34m)\u001b[0m\u001b[0;34m\u001b[0m\u001b[0m\n\u001b[0;32m-> 1145\u001b[0;31m         \u001b[0mscraping_part\u001b[0m\u001b[0;34m(\u001b[0m\u001b[0margs\u001b[0m\u001b[0;34m,\u001b[0m \u001b[0moptions\u001b[0m\u001b[0;34m)\u001b[0m\u001b[0;34m\u001b[0m\u001b[0m\n\u001b[0m\u001b[1;32m   1146\u001b[0m \u001b[0;34m\u001b[0m\u001b[0m\n\u001b[1;32m   1147\u001b[0m \u001b[0;34m\u001b[0m\u001b[0m\n",
      "\u001b[0;32m~/Projects/FLECode/sushi-chef-tessa/notebooks/tessa_chef.py\u001b[0m in \u001b[0;36mscraping_part\u001b[0;34m(args, options)\u001b[0m\n\u001b[1;32m    974\u001b[0m         \u001b[0mchildren\u001b[0m\u001b[0;34m=\u001b[0m\u001b[0;34m[\u001b[0m\u001b[0;34m]\u001b[0m\u001b[0;34m,\u001b[0m\u001b[0;34m\u001b[0m\u001b[0m\n\u001b[1;32m    975\u001b[0m     )\n\u001b[0;32m--> 976\u001b[0;31m     \u001b[0m_build_json_tree\u001b[0m\u001b[0;34m(\u001b[0m\u001b[0mricecooker_json_tree\u001b[0m\u001b[0;34m,\u001b[0m \u001b[0mweb_resource_tree\u001b[0m\u001b[0;34m[\u001b[0m\u001b[0;34m'children'\u001b[0m\u001b[0;34m]\u001b[0m\u001b[0;34m,\u001b[0m \u001b[0mlang\u001b[0m\u001b[0;34m=\u001b[0m\u001b[0moptions\u001b[0m\u001b[0;34m[\u001b[0m\u001b[0;34m'lang'\u001b[0m\u001b[0;34m]\u001b[0m\u001b[0;34m)\u001b[0m\u001b[0;34m\u001b[0m\u001b[0m\n\u001b[0m\u001b[1;32m    977\u001b[0m     \u001b[0mprint\u001b[0m\u001b[0;34m(\u001b[0m\u001b[0;34m'finished building ricecooker_json_tree'\u001b[0m\u001b[0;34m)\u001b[0m\u001b[0;34m\u001b[0m\u001b[0m\n\u001b[1;32m    978\u001b[0m \u001b[0;34m\u001b[0m\u001b[0m\n",
      "\u001b[0;32m~/Projects/FLECode/sushi-chef-tessa/notebooks/tessa_chef.py\u001b[0m in \u001b[0;36m_build_json_tree\u001b[0;34m(parent_node, sourcetree, lang)\u001b[0m\n\u001b[1;32m    892\u001b[0m             \u001b[0mlogger\u001b[0m\u001b[0;34m.\u001b[0m\u001b[0mdebug\u001b[0m\u001b[0;34m(\u001b[0m\u001b[0;34m'Created new TopicNode for TessaSubpage titled '\u001b[0m \u001b[0;34m+\u001b[0m \u001b[0mchild_node\u001b[0m\u001b[0;34m[\u001b[0m\u001b[0;34m'title'\u001b[0m\u001b[0;34m]\u001b[0m\u001b[0;34m)\u001b[0m\u001b[0;34m\u001b[0m\u001b[0m\n\u001b[1;32m    893\u001b[0m             \u001b[0msource_tree_children\u001b[0m \u001b[0;34m=\u001b[0m \u001b[0msource_node\u001b[0m\u001b[0;34m.\u001b[0m\u001b[0mget\u001b[0m\u001b[0;34m(\u001b[0m\u001b[0;34m\"children\"\u001b[0m\u001b[0;34m,\u001b[0m \u001b[0;34m[\u001b[0m\u001b[0;34m]\u001b[0m\u001b[0;34m)\u001b[0m\u001b[0;34m\u001b[0m\u001b[0m\n\u001b[0;32m--> 894\u001b[0;31m             \u001b[0m_build_json_tree\u001b[0m\u001b[0;34m(\u001b[0m\u001b[0mchild_node\u001b[0m\u001b[0;34m,\u001b[0m \u001b[0msource_tree_children\u001b[0m\u001b[0;34m,\u001b[0m \u001b[0mlang\u001b[0m\u001b[0;34m=\u001b[0m\u001b[0mlang\u001b[0m\u001b[0;34m)\u001b[0m\u001b[0;34m\u001b[0m\u001b[0m\n\u001b[0m\u001b[1;32m    895\u001b[0m \u001b[0;34m\u001b[0m\u001b[0m\n\u001b[1;32m    896\u001b[0m         \u001b[0;32melif\u001b[0m \u001b[0mkind\u001b[0m \u001b[0;34m==\u001b[0m \u001b[0;34m'TessaSubpage'\u001b[0m\u001b[0;34m:\u001b[0m\u001b[0;34m\u001b[0m\u001b[0m\n",
      "\u001b[0;32m~/Projects/FLECode/sushi-chef-tessa/notebooks/tessa_chef.py\u001b[0m in \u001b[0;36m_build_json_tree\u001b[0;34m(parent_node, sourcetree, lang)\u001b[0m\n\u001b[1;32m    907\u001b[0m             \u001b[0mlogger\u001b[0m\u001b[0;34m.\u001b[0m\u001b[0mdebug\u001b[0m\u001b[0;34m(\u001b[0m\u001b[0;34m'Created new TopicNode for TessaSubpage titled '\u001b[0m \u001b[0;34m+\u001b[0m \u001b[0mchild_node\u001b[0m\u001b[0;34m[\u001b[0m\u001b[0;34m'title'\u001b[0m\u001b[0;34m]\u001b[0m\u001b[0;34m)\u001b[0m\u001b[0;34m\u001b[0m\u001b[0m\n\u001b[1;32m    908\u001b[0m             \u001b[0msource_tree_children\u001b[0m \u001b[0;34m=\u001b[0m \u001b[0msource_node\u001b[0m\u001b[0;34m.\u001b[0m\u001b[0mget\u001b[0m\u001b[0;34m(\u001b[0m\u001b[0;34m\"children\"\u001b[0m\u001b[0;34m,\u001b[0m \u001b[0;34m[\u001b[0m\u001b[0;34m]\u001b[0m\u001b[0;34m)\u001b[0m\u001b[0;34m\u001b[0m\u001b[0m\n\u001b[0;32m--> 909\u001b[0;31m             \u001b[0m_build_json_tree\u001b[0m\u001b[0;34m(\u001b[0m\u001b[0mchild_node\u001b[0m\u001b[0;34m,\u001b[0m \u001b[0msource_tree_children\u001b[0m\u001b[0;34m,\u001b[0m \u001b[0mlang\u001b[0m\u001b[0;34m=\u001b[0m\u001b[0mlang\u001b[0m\u001b[0;34m)\u001b[0m\u001b[0;34m\u001b[0m\u001b[0m\n\u001b[0m\u001b[1;32m    910\u001b[0m \u001b[0;34m\u001b[0m\u001b[0m\n\u001b[1;32m    911\u001b[0m         \u001b[0;32melif\u001b[0m \u001b[0mkind\u001b[0m \u001b[0;34m==\u001b[0m \u001b[0;34m'TessaSubject'\u001b[0m\u001b[0;34m:\u001b[0m\u001b[0;34m\u001b[0m\u001b[0m\n",
      "\u001b[0;32m~/Projects/FLECode/sushi-chef-tessa/notebooks/tessa_chef.py\u001b[0m in \u001b[0;36m_build_json_tree\u001b[0;34m(parent_node, sourcetree, lang)\u001b[0m\n\u001b[1;32m    923\u001b[0m             \u001b[0mlogger\u001b[0m\u001b[0;34m.\u001b[0m\u001b[0mdebug\u001b[0m\u001b[0;34m(\u001b[0m\u001b[0;34m'Created new TopicNode for TessaSubject titled '\u001b[0m \u001b[0;34m+\u001b[0m \u001b[0mchild_node\u001b[0m\u001b[0;34m[\u001b[0m\u001b[0;34m'title'\u001b[0m\u001b[0;34m]\u001b[0m\u001b[0;34m)\u001b[0m\u001b[0;34m\u001b[0m\u001b[0m\n\u001b[1;32m    924\u001b[0m             \u001b[0msource_tree_children\u001b[0m \u001b[0;34m=\u001b[0m \u001b[0msource_node\u001b[0m\u001b[0;34m.\u001b[0m\u001b[0mget\u001b[0m\u001b[0;34m(\u001b[0m\u001b[0;34m\"children\"\u001b[0m\u001b[0;34m,\u001b[0m \u001b[0;34m[\u001b[0m\u001b[0;34m]\u001b[0m\u001b[0;34m)\u001b[0m\u001b[0;34m\u001b[0m\u001b[0m\n\u001b[0;32m--> 925\u001b[0;31m             \u001b[0m_build_json_tree\u001b[0m\u001b[0;34m(\u001b[0m\u001b[0mchild_node\u001b[0m\u001b[0;34m,\u001b[0m \u001b[0msource_tree_children\u001b[0m\u001b[0;34m,\u001b[0m \u001b[0mlang\u001b[0m\u001b[0;34m=\u001b[0m\u001b[0mlang\u001b[0m\u001b[0;34m)\u001b[0m\u001b[0;34m\u001b[0m\u001b[0m\n\u001b[0m\u001b[1;32m    926\u001b[0m \u001b[0;34m\u001b[0m\u001b[0m\n\u001b[1;32m    927\u001b[0m         \u001b[0;32melif\u001b[0m \u001b[0mkind\u001b[0m \u001b[0;34m==\u001b[0m \u001b[0;34m'TessaModule'\u001b[0m\u001b[0;34m:\u001b[0m\u001b[0;34m\u001b[0m\u001b[0m\n",
      "\u001b[0;32m~/Projects/FLECode/sushi-chef-tessa/notebooks/tessa_chef.py\u001b[0m in \u001b[0;36m_build_json_tree\u001b[0;34m(parent_node, sourcetree, lang)\u001b[0m\n\u001b[1;32m    935\u001b[0m                 \u001b[0mfiles\u001b[0m\u001b[0;34m=\u001b[0m\u001b[0;34m[\u001b[0m\u001b[0;34m]\u001b[0m\u001b[0;34m,\u001b[0m\u001b[0;34m\u001b[0m\u001b[0m\n\u001b[1;32m    936\u001b[0m             )\n\u001b[0;32m--> 937\u001b[0;31m             \u001b[0mzip_path\u001b[0m \u001b[0;34m=\u001b[0m \u001b[0mdownload_module\u001b[0m\u001b[0;34m(\u001b[0m\u001b[0msource_node\u001b[0m\u001b[0;34m[\u001b[0m\u001b[0;34m'url'\u001b[0m\u001b[0;34m]\u001b[0m\u001b[0;34m,\u001b[0m \u001b[0mlang\u001b[0m\u001b[0;34m=\u001b[0m\u001b[0msource_node\u001b[0m\u001b[0;34m[\u001b[0m\u001b[0;34m'lang'\u001b[0m\u001b[0;34m]\u001b[0m\u001b[0;34m)\u001b[0m\u001b[0;34m\u001b[0m\u001b[0m\n\u001b[0m\u001b[1;32m    938\u001b[0m             module_html_file = dict(\n\u001b[1;32m    939\u001b[0m                 \u001b[0mfile_type\u001b[0m\u001b[0;34m=\u001b[0m\u001b[0;34m'HTMLZipFile'\u001b[0m\u001b[0;34m,\u001b[0m\u001b[0;34m\u001b[0m\u001b[0m\n",
      "\u001b[0;32m~/Projects/FLECode/sushi-chef-tessa/notebooks/tessa_chef.py\u001b[0m in \u001b[0;36mdownload_module\u001b[0;34m(module_url, lang)\u001b[0m\n\u001b[1;32m    619\u001b[0m     \u001b[0;31m# July 28 HACK : infer module_toc_li  using marker on sublist-li\u001b[0m\u001b[0;34m\u001b[0m\u001b[0;34m\u001b[0m\u001b[0m\n\u001b[1;32m    620\u001b[0m     \u001b[0mcurrent_li_deep\u001b[0m \u001b[0;34m=\u001b[0m \u001b[0mdoc\u001b[0m\u001b[0;34m.\u001b[0m\u001b[0mfind\u001b[0m\u001b[0;34m(\u001b[0m\u001b[0;34m'li'\u001b[0m\u001b[0;34m,\u001b[0m \u001b[0mclass_\u001b[0m\u001b[0;34m=\u001b[0m\u001b[0;34m'oucontent-tree-current'\u001b[0m\u001b[0;34m)\u001b[0m\u001b[0;34m\u001b[0m\u001b[0m\n\u001b[0;32m--> 621\u001b[0;31m     \u001b[0mmodule_toc_li\u001b[0m \u001b[0;34m=\u001b[0m \u001b[0mcurrent_li_deep\u001b[0m\u001b[0;34m.\u001b[0m\u001b[0mfind_parent\u001b[0m\u001b[0;34m(\u001b[0m\u001b[0;34m'li'\u001b[0m\u001b[0;34m,\u001b[0m \u001b[0mclass_\u001b[0m\u001b[0;34m=\u001b[0m\u001b[0;34m'item-section'\u001b[0m\u001b[0;34m)\u001b[0m\u001b[0;34m\u001b[0m\u001b[0m\n\u001b[0m\u001b[1;32m    622\u001b[0m     \u001b[0;31m# print(module_toc_li.prettify())\u001b[0m\u001b[0;34m\u001b[0m\u001b[0;34m\u001b[0m\u001b[0m\n\u001b[1;32m    623\u001b[0m     \u001b[0;31m# module_contents_div = module_toc_li.find('div', class_='oucontent-contents')\u001b[0m\u001b[0;34m\u001b[0m\u001b[0;34m\u001b[0m\u001b[0m\n",
      "\u001b[0;31mAttributeError\u001b[0m: 'NoneType' object has no attribute 'find_parent'"
     ]
    }
   ],
   "source": [
    "from tessa_chef import TessaChef\n",
    "tessa_chef = TessaChef()\n",
    "tessa_chef.scrape(None, {'lang':'fr'})"
   ]
  },
  {
   "cell_type": "code",
   "execution_count": 2,
   "metadata": {
    "scrolled": false
   },
   "outputs": [
    {
     "name": "stdout",
     "output_type": "stream",
     "text": [
      "destination= /var/folders/k3/r74jr38d56v717n39fd073f80000gn/T/tmpihwglq_b\n",
      "Scrapring section/subsectino... section-1.html\n",
      "  - section: Module 1 : Étude du nombre et de la structure\n",
      "Scrapring section/subsectino... section-1_1.html\n",
      "    - subsection: Module 1 : Étude du nombre et de la structure: 1. Utilisation de jeux pour développer le calcul mental\n",
      "Scrapring section/subsectino... section-1_2.html\n",
      "    - subsection: Module 1 : Étude du nombre et de la structure: 2. Identifier les mathématiques pratiquées dans le jeu – Jouer en groupes\n",
      "Scrapring section/subsectino... section-1_3.html\n",
      "    - subsection: Module 1 : Étude du nombre et de la structure: 3. Utiliser des jeux culturels traditionnels\n",
      "Scrapring section/subsectino... section-1_4.html\n",
      "    - subsection: Module 1 : Étude du nombre et de la structure: Ressource 1: Jeux d’associations de nombres\n",
      "Scrapring section/subsectino... section-1_5.html\n",
      "    - subsection: Module 1 : Étude du nombre et de la structure: Ressource 2: Jeux utilisant des aptitudes en numération\n",
      "Scrapring section/subsectino... section-1_6.html\n",
      "    - subsection: Module 1 : Étude du nombre et de la structure: Ressource 3: Tableau pour enregistrer les compétences en numération\n",
      "Scrapring section/subsectino... section-1_7.html\n",
      "    - subsection: Module 1 : Étude du nombre et de la structure: Ressource 4: Le jeu culturel africain\n",
      "Scrapring section/subsectino... section-2.html\n",
      "  - section: Module 1 : Étude du nombre et de la structure: Section numéro 2 : Structures des tableaux numériques\n",
      "Scrapring section/subsectino... section-2_1.html\n",
      "    - subsection: Module 1 : Étude du nombre et de la structure: 1. Utilisation des tableaux de nombres\n",
      "Scrapring section/subsectino... section-2_2.html\n",
      "    - subsection: Module 1 : Étude du nombre et de la structure: 2. Encourager les élèves à créer les questions pour leurs camarades\n",
      "Scrapring section/subsectino... section-2_3.html\n",
      "    - subsection: Module 1 : Étude du nombre et de la structure: 3. Travail simple d’investigation liant les tableaux numériques et multiplications\n",
      "Scrapring section/subsectino... section-2_4.html\n",
      "    - subsection: Module 1 : Étude du nombre et de la structure: Ressource 1 : Tableau de nombres à 100 cases\n",
      "Scrapring section/subsectino... section-2_5.html\n",
      "    - subsection: Module 1 : Étude du nombre et de la structure: Ressource 2 : Réflexion sur votre leçon\n",
      "Scrapring section/subsectino... section-2_6.html\n",
      "    - subsection: Module 1 : Étude du nombre et de la structure: Ressource 3 : Tableaux partiels de nombres\n",
      "Scrapring section/subsectino... section-2_7.html\n",
      "    - subsection: Module 1 : Étude du nombre et de la structure: Ressource 4 : Les tableaux de multiplication de Mme Dossou\n",
      "Scrapring section/subsectino... section-3.html\n",
      "  - section: Module 1 : Étude du nombre et de la structure: Section numéro 3 : Comment résoudre les problèmes numériques\n",
      "Scrapring section/subsectino... section-3_1.html\n",
      "    - subsection: Module 1 : Étude du nombre et de la structure: 1. Il existe plusieurs solutions à un même problème : aider les élèves à réfléchir et à verbaliser leurs réponses\n",
      "Scrapring section/subsectino... section-3_2.html\n",
      "    - subsection: Module 1 : Étude du nombre et de la structure: 2. Identifier les caractéristiques profondes et les caractéristiques superficielles de problèmes de mathématiques\n",
      "Scrapring section/subsectino... section-3_3.html\n",
      "    - subsection: Module 1 : Étude du nombre et de la structure: 3. Réfléchir à ce qui rend les problèmes faciles ou difficiles\n",
      "Scrapring section/subsectino... section-3_4.html\n",
      "    - subsection: Module 1 : Étude du nombre et de la structure: Ressource 1 : Pourquoi la résolution des problèmes est importante\n",
      "Scrapring section/subsectino... section-3_5.html\n",
      "    - subsection: Module 1 : Étude du nombre et de la structure: Ressource 2 : Manières d’aider les élèves à résoudre des problèmes\n",
      "Scrapring section/subsectino... section-4.html\n",
      "  - section: Module 1 : Étude du nombre et de la structure: Section numéro 4 : Visualisation de la multiplication\n",
      "Scrapring section/subsectino... section-4_1.html\n",
      "    - subsection: Module 1 : Étude du nombre et de la structure: 1. Travailler en binômes sur les nombres carrés\n",
      "Scrapring section/subsectino... section-4_2.html\n",
      "    - subsection: Module 1 : Étude du nombre et de la structure: 2. Utilisation de jeux pour explorer les nombres rectangulaires\n",
      "Scrapring section/subsectino... section-4_3.html\n",
      "    - subsection: Module 1 : Étude du nombre et de la structure: 3. Observer et inventer des modèles numériques liés à la multiplication\n",
      "Scrapring section/subsectino... section-4_4.html\n",
      "    - subsection: Module 1 : Étude du nombre et de la structure: Ressource 1 : Les nombres carrés\n",
      "Scrapring section/subsectino... section-4_5.html\n",
      "    - subsection: Module 1 : Étude du nombre et de la structure: Ressource 2 : Tableau de multiplications\n",
      "Scrapring section/subsectino... section-4_6.html\n",
      "    - subsection: Module 1 : Étude du nombre et de la structure: Ressource 3 : Les dizaines et les unités\n",
      "Scrapring section/subsectino... section-4_7.html\n",
      "    - subsection: Module 1 : Étude du nombre et de la structure: Ressource 4 : Table de multiplication\n",
      "Scrapring section/subsectino... section-5.html\n",
      "  - section: Module 1 : Étude du nombre et de la structure: Section numéro 5 : Travail pratique avec les fractions\n",
      "Scrapring section/subsectino... section-5_1.html\n",
      "    - subsection: Module 1 : Étude du nombre et de la structure: 1. Explorer les fractions simples en groupes, avec des ressources simples\n",
      "Scrapring section/subsectino... section-5_2.html\n",
      "    - subsection: Module 1 : Étude du nombre et de la structure: 2. Utiliser des bandes et des cercles de fractions pour faire des additions et soustractions de fractions\n",
      "Scrapring section/subsectino... section-5_3.html\n",
      "    - subsection: Module 1 : Étude du nombre et de la structure: 3. Utiliser le travail de groupes pour expliquer les fractions équivalentes\n",
      "Scrapring section/subsectino... section-5_4.html\n",
      "    - subsection: Module 1 : Étude du nombre et de la structure: Ressource 1 : Fractions\n",
      "Scrapring section/subsectino... section-5_5.html\n",
      "    - subsection: Module 1 : Étude du nombre et de la structure: Ressource 2 : Bandes de fractions\n",
      "Scrapring section/subsectino... section-5_6.html\n",
      "    - subsection: Module 1 : Étude du nombre et de la structure: Ressource 3 : Disques de fractions\n",
      "Scrapring section/subsectino... section-5_7.html\n",
      "    - subsection: Module 1 : Étude du nombre et de la structure: Ressource 4 : Comparaison des fractions\n",
      "Scrapring section/subsectino... section-5_8.html\n",
      "    - subsection: Module 1 : Étude du nombre et de la structure: Ressource 5 : Questions d’auto-évaluation\n",
      "next_link is None\n"
     ]
    },
    {
     "data": {
      "text/plain": [
       "'/var/folders/k3/r74jr38d56v717n39fd073f80000gn/T/tmpxkkfwwka.zip'"
      ]
     },
     "execution_count": 2,
     "metadata": {},
     "output_type": "execute_result"
    }
   ],
   "source": [
    "\n",
    "from tessa_chef import urlparse, parse_qs, get_parsed_html_from_url\n",
    "from tessa_chef import _get_next_section_url, download_page, download_module_no_toc\n",
    "\n",
    "\n",
    "test_module = 'http://www.open.edu/openlearncreate/mod/oucontent/view.php?id=82514' # FR\n",
    "download_module_no_toc(test_module, lang='fr')"
   ]
  },
  {
   "cell_type": "code",
   "execution_count": 2,
   "metadata": {},
   "outputs": [
    {
     "data": {
      "text/plain": [
       "'/Users/ivan/Projects/FLECode/sushi-chef-tessa/notebooks'"
      ]
     },
     "execution_count": 2,
     "metadata": {},
     "output_type": "execute_result"
    }
   ],
   "source": [
    "import os\n",
    "os.getcwd()"
   ]
  },
  {
   "cell_type": "code",
   "execution_count": null,
   "metadata": {
    "collapsed": true
   },
   "outputs": [],
   "source": [
    "os.path."
   ]
  },
  {
   "cell_type": "code",
   "execution_count": null,
   "metadata": {
    "collapsed": true
   },
   "outputs": [],
   "source": []
  },
  {
   "cell_type": "code",
   "execution_count": null,
   "metadata": {
    "collapsed": true
   },
   "outputs": [],
   "source": []
  },
  {
   "cell_type": "code",
   "execution_count": null,
   "metadata": {
    "collapsed": true
   },
   "outputs": [],
   "source": []
  },
  {
   "cell_type": "code",
   "execution_count": null,
   "metadata": {
    "collapsed": true
   },
   "outputs": [],
   "source": []
  }
 ],
 "metadata": {
  "kernelspec": {
   "display_name": "Python 3",
   "language": "python",
   "name": "python3"
  },
  "language_info": {
   "codemirror_mode": {
    "name": "ipython",
    "version": 3
   },
   "file_extension": ".py",
   "mimetype": "text/x-python",
   "name": "python",
   "nbconvert_exporter": "python",
   "pygments_lexer": "ipython3",
   "version": "3.6.1"
  }
 },
 "nbformat": 4,
 "nbformat_minor": 2
}
